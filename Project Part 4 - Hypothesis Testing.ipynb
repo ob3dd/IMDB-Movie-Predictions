{
 "cells": [
  {
   "cell_type": "code",
   "execution_count": 56,
   "id": "f990ec5f",
   "metadata": {},
   "outputs": [],
   "source": [
    "#Imports\n",
    "import pandas as pd\n",
    "import numpy as np\n",
    "import matplotlib.pyplot as plt\n",
    "import seaborn as sns\n",
    "import json\n",
    "import glob\n",
    "from scipy import stats\n",
    "pd.set_option('display.max_columns',100)"
   ]
  },
  {
   "cell_type": "code",
   "execution_count": 57,
   "id": "468bab92",
   "metadata": {},
   "outputs": [
    {
     "data": {
      "text/plain": [
       "['.ipynb_checkpoints',\n",
       " 'Data',\n",
       " 'combined_tmdb_data.csv.gz',\n",
       " 'final_tmdb_data_2000.csv.gz',\n",
       " 'final_tmdb_data_2001.csv.gz',\n",
       " 'final_tmdb_data_2010.csv.gz',\n",
       " 'final_tmdb_data_2011.csv.gz',\n",
       " 'final_tmdb_data_2012.csv.gz',\n",
       " 'final_tmdb_data_2013.csv.gz',\n",
       " 'final_tmdb_data_2014.csv.gz',\n",
       " 'final_tmdb_data_2015.csv.gz',\n",
       " 'final_tmdb_data_2016.csv.gz',\n",
       " 'final_tmdb_data_2017.csv.gz',\n",
       " 'final_tmdb_data_2018.csv.gz',\n",
       " 'final_tmdb_data_2019.csv.gz',\n",
       " 'title_akas.csv.gz',\n",
       " 'title_basics.csv.gz',\n",
       " 'title_ratings.csv.gz',\n",
       " 'tmdb_api_results_2000.json',\n",
       " 'tmdb_api_results_2001.json',\n",
       " 'tmdb_api_results_2010.json',\n",
       " 'tmdb_api_results_2011.json',\n",
       " 'tmdb_api_results_2012.json',\n",
       " 'tmdb_api_results_2013.json',\n",
       " 'tmdb_api_results_2014.json',\n",
       " 'tmdb_api_results_2015.json',\n",
       " 'tmdb_api_results_2016.json',\n",
       " 'tmdb_api_results_2017.json',\n",
       " 'tmdb_api_results_2018.json',\n",
       " 'tmdb_api_results_2019.json',\n",
       " 'tmdb_results_combined.csv.gz']"
      ]
     },
     "execution_count": 57,
     "metadata": {},
     "output_type": "execute_result"
    }
   ],
   "source": [
    "#Check data that exists in Data folder\n",
    "import os\n",
    "FOLDER = 'Data/'\n",
    "file_list = sorted(os.listdir(FOLDER))\n",
    "file_list"
   ]
  },
  {
   "cell_type": "code",
   "execution_count": 58,
   "id": "4fc54fde",
   "metadata": {},
   "outputs": [
    {
     "name": "stdout",
     "output_type": "stream",
     "text": [
      "Data/final_*csv.gz\n"
     ]
    },
    {
     "data": {
      "text/plain": [
       "['Data/final_tmdb_data_2000.csv.gz',\n",
       " 'Data/final_tmdb_data_2001.csv.gz',\n",
       " 'Data/final_tmdb_data_2010.csv.gz',\n",
       " 'Data/final_tmdb_data_2011.csv.gz',\n",
       " 'Data/final_tmdb_data_2012.csv.gz',\n",
       " 'Data/final_tmdb_data_2013.csv.gz',\n",
       " 'Data/final_tmdb_data_2014.csv.gz',\n",
       " 'Data/final_tmdb_data_2015.csv.gz',\n",
       " 'Data/final_tmdb_data_2016.csv.gz',\n",
       " 'Data/final_tmdb_data_2017.csv.gz',\n",
       " 'Data/final_tmdb_data_2018.csv.gz',\n",
       " 'Data/final_tmdb_data_2019.csv.gz']"
      ]
     },
     "execution_count": 58,
     "metadata": {},
     "output_type": "execute_result"
    }
   ],
   "source": [
    "#Use glob to find final_tmdb_data csv files\n",
    "q = FOLDER+\"final_*csv.gz\"\n",
    "print(q)\n",
    "file_list = sorted(glob.glob(q))\n",
    "file_list"
   ]
  },
  {
   "cell_type": "code",
   "execution_count": 59,
   "id": "9ce4f46d",
   "metadata": {},
   "outputs": [
    {
     "data": {
      "text/html": [
       "<div>\n",
       "<style scoped>\n",
       "    .dataframe tbody tr th:only-of-type {\n",
       "        vertical-align: middle;\n",
       "    }\n",
       "\n",
       "    .dataframe tbody tr th {\n",
       "        vertical-align: top;\n",
       "    }\n",
       "\n",
       "    .dataframe thead th {\n",
       "        text-align: right;\n",
       "    }\n",
       "</style>\n",
       "<table border=\"1\" class=\"dataframe\">\n",
       "  <thead>\n",
       "    <tr style=\"text-align: right;\">\n",
       "      <th></th>\n",
       "      <th>imdb_id</th>\n",
       "      <th>adult</th>\n",
       "      <th>backdrop_path</th>\n",
       "      <th>belongs_to_collection</th>\n",
       "      <th>budget</th>\n",
       "      <th>genres</th>\n",
       "      <th>homepage</th>\n",
       "      <th>id</th>\n",
       "      <th>original_language</th>\n",
       "      <th>original_title</th>\n",
       "      <th>overview</th>\n",
       "      <th>popularity</th>\n",
       "      <th>poster_path</th>\n",
       "      <th>production_companies</th>\n",
       "      <th>production_countries</th>\n",
       "      <th>release_date</th>\n",
       "      <th>revenue</th>\n",
       "      <th>runtime</th>\n",
       "      <th>spoken_languages</th>\n",
       "      <th>status</th>\n",
       "      <th>tagline</th>\n",
       "      <th>title</th>\n",
       "      <th>video</th>\n",
       "      <th>vote_average</th>\n",
       "      <th>vote_count</th>\n",
       "      <th>certification</th>\n",
       "    </tr>\n",
       "  </thead>\n",
       "  <tbody>\n",
       "    <tr>\n",
       "      <th>0</th>\n",
       "      <td>0</td>\n",
       "      <td>NaN</td>\n",
       "      <td>NaN</td>\n",
       "      <td>NaN</td>\n",
       "      <td>NaN</td>\n",
       "      <td>NaN</td>\n",
       "      <td>NaN</td>\n",
       "      <td>NaN</td>\n",
       "      <td>NaN</td>\n",
       "      <td>NaN</td>\n",
       "      <td>NaN</td>\n",
       "      <td>NaN</td>\n",
       "      <td>NaN</td>\n",
       "      <td>NaN</td>\n",
       "      <td>NaN</td>\n",
       "      <td>NaN</td>\n",
       "      <td>NaN</td>\n",
       "      <td>NaN</td>\n",
       "      <td>NaN</td>\n",
       "      <td>NaN</td>\n",
       "      <td>NaN</td>\n",
       "      <td>NaN</td>\n",
       "      <td>NaN</td>\n",
       "      <td>NaN</td>\n",
       "      <td>NaN</td>\n",
       "      <td>NaN</td>\n",
       "    </tr>\n",
       "    <tr>\n",
       "      <th>1</th>\n",
       "      <td>tt0113026</td>\n",
       "      <td>0.0</td>\n",
       "      <td>/vMFs7nw6P0bIV1jDsQpxAieAVnH.jpg</td>\n",
       "      <td>NaN</td>\n",
       "      <td>10000000.0</td>\n",
       "      <td>[{'id': 35, 'name': 'Comedy'}, {'id': 10402, '...</td>\n",
       "      <td>NaN</td>\n",
       "      <td>62127.0</td>\n",
       "      <td>en</td>\n",
       "      <td>The Fantasticks</td>\n",
       "      <td>Two rural teens sing and dance their way throu...</td>\n",
       "      <td>2.075</td>\n",
       "      <td>/hfO64mXz3DgUxkBVU7no2UWRP7x.jpg</td>\n",
       "      <td>[{'id': 51207, 'logo_path': None, 'name': 'Sul...</td>\n",
       "      <td>[{'iso_3166_1': 'US', 'name': 'United States o...</td>\n",
       "      <td>2000-09-22</td>\n",
       "      <td>0.0</td>\n",
       "      <td>86.0</td>\n",
       "      <td>[{'english_name': 'English', 'iso_639_1': 'en'...</td>\n",
       "      <td>Released</td>\n",
       "      <td>Try to remember the first time magic happened</td>\n",
       "      <td>The Fantasticks</td>\n",
       "      <td>0.0</td>\n",
       "      <td>5.500</td>\n",
       "      <td>22.0</td>\n",
       "      <td>NaN</td>\n",
       "    </tr>\n",
       "    <tr>\n",
       "      <th>2</th>\n",
       "      <td>tt0113092</td>\n",
       "      <td>0.0</td>\n",
       "      <td>NaN</td>\n",
       "      <td>NaN</td>\n",
       "      <td>0.0</td>\n",
       "      <td>[{'id': 878, 'name': 'Science Fiction'}]</td>\n",
       "      <td>NaN</td>\n",
       "      <td>110977.0</td>\n",
       "      <td>en</td>\n",
       "      <td>For the Cause</td>\n",
       "      <td>Earth is in a state of constant war and two co...</td>\n",
       "      <td>0.704</td>\n",
       "      <td>/h9bWO13nWRGZJo4XVPiElXyrRMU.jpg</td>\n",
       "      <td>[{'id': 7405, 'logo_path': '/rfnws0uY8rsNAsrLb...</td>\n",
       "      <td>[{'iso_3166_1': 'US', 'name': 'United States o...</td>\n",
       "      <td>2000-11-15</td>\n",
       "      <td>0.0</td>\n",
       "      <td>100.0</td>\n",
       "      <td>[{'english_name': 'English', 'iso_639_1': 'en'...</td>\n",
       "      <td>Released</td>\n",
       "      <td>The ultimate showdown on a forbidden planet.</td>\n",
       "      <td>For the Cause</td>\n",
       "      <td>0.0</td>\n",
       "      <td>5.450</td>\n",
       "      <td>10.0</td>\n",
       "      <td>NaN</td>\n",
       "    </tr>\n",
       "    <tr>\n",
       "      <th>3</th>\n",
       "      <td>tt0116391</td>\n",
       "      <td>0.0</td>\n",
       "      <td>NaN</td>\n",
       "      <td>NaN</td>\n",
       "      <td>0.0</td>\n",
       "      <td>[{'id': 18, 'name': 'Drama'}, {'id': 28, 'name...</td>\n",
       "      <td>NaN</td>\n",
       "      <td>442869.0</td>\n",
       "      <td>hi</td>\n",
       "      <td>Gang</td>\n",
       "      <td>After falling prey to underworld, four friends...</td>\n",
       "      <td>0.887</td>\n",
       "      <td>/yB5wRu4uyXXwZA3PEj8cITu0xt3.jpg</td>\n",
       "      <td>[]</td>\n",
       "      <td>[{'iso_3166_1': 'IN', 'name': 'India'}]</td>\n",
       "      <td>2000-04-14</td>\n",
       "      <td>0.0</td>\n",
       "      <td>152.0</td>\n",
       "      <td>[{'english_name': 'Hindi', 'iso_639_1': 'hi', ...</td>\n",
       "      <td>Released</td>\n",
       "      <td>NaN</td>\n",
       "      <td>Gang</td>\n",
       "      <td>0.0</td>\n",
       "      <td>4.000</td>\n",
       "      <td>1.0</td>\n",
       "      <td>NaN</td>\n",
       "    </tr>\n",
       "    <tr>\n",
       "      <th>4</th>\n",
       "      <td>tt0118694</td>\n",
       "      <td>0.0</td>\n",
       "      <td>/n4GJFGzsc7NinI1VeGDXIcQjtU2.jpg</td>\n",
       "      <td>NaN</td>\n",
       "      <td>150000.0</td>\n",
       "      <td>[{'id': 18, 'name': 'Drama'}, {'id': 10749, 'n...</td>\n",
       "      <td>NaN</td>\n",
       "      <td>843.0</td>\n",
       "      <td>cn</td>\n",
       "      <td>花樣年華</td>\n",
       "      <td>Two neighbors become intimate after discoverin...</td>\n",
       "      <td>26.988</td>\n",
       "      <td>/iYypPT4bhqXfq1b6EnmxvRt6b2Y.jpg</td>\n",
       "      <td>[{'id': 539, 'logo_path': '/iPLtePguIzOPNtAWfT...</td>\n",
       "      <td>[{'iso_3166_1': 'FR', 'name': 'France'}, {'iso...</td>\n",
       "      <td>2000-09-29</td>\n",
       "      <td>14204632.0</td>\n",
       "      <td>99.0</td>\n",
       "      <td>[{'english_name': 'Cantonese', 'iso_639_1': 'c...</td>\n",
       "      <td>Released</td>\n",
       "      <td>Feel the heat, keep the feeling burning, let t...</td>\n",
       "      <td>In the Mood for Love</td>\n",
       "      <td>0.0</td>\n",
       "      <td>8.111</td>\n",
       "      <td>2305.0</td>\n",
       "      <td>PG</td>\n",
       "    </tr>\n",
       "  </tbody>\n",
       "</table>\n",
       "</div>"
      ],
      "text/plain": [
       "     imdb_id  adult                     backdrop_path belongs_to_collection  \\\n",
       "0          0    NaN                               NaN                   NaN   \n",
       "1  tt0113026    0.0  /vMFs7nw6P0bIV1jDsQpxAieAVnH.jpg                   NaN   \n",
       "2  tt0113092    0.0                               NaN                   NaN   \n",
       "3  tt0116391    0.0                               NaN                   NaN   \n",
       "4  tt0118694    0.0  /n4GJFGzsc7NinI1VeGDXIcQjtU2.jpg                   NaN   \n",
       "\n",
       "       budget                                             genres homepage  \\\n",
       "0         NaN                                                NaN      NaN   \n",
       "1  10000000.0  [{'id': 35, 'name': 'Comedy'}, {'id': 10402, '...      NaN   \n",
       "2         0.0           [{'id': 878, 'name': 'Science Fiction'}]      NaN   \n",
       "3         0.0  [{'id': 18, 'name': 'Drama'}, {'id': 28, 'name...      NaN   \n",
       "4    150000.0  [{'id': 18, 'name': 'Drama'}, {'id': 10749, 'n...      NaN   \n",
       "\n",
       "         id original_language   original_title  \\\n",
       "0       NaN               NaN              NaN   \n",
       "1   62127.0                en  The Fantasticks   \n",
       "2  110977.0                en    For the Cause   \n",
       "3  442869.0                hi             Gang   \n",
       "4     843.0                cn             花樣年華   \n",
       "\n",
       "                                            overview  popularity  \\\n",
       "0                                                NaN         NaN   \n",
       "1  Two rural teens sing and dance their way throu...       2.075   \n",
       "2  Earth is in a state of constant war and two co...       0.704   \n",
       "3  After falling prey to underworld, four friends...       0.887   \n",
       "4  Two neighbors become intimate after discoverin...      26.988   \n",
       "\n",
       "                        poster_path  \\\n",
       "0                               NaN   \n",
       "1  /hfO64mXz3DgUxkBVU7no2UWRP7x.jpg   \n",
       "2  /h9bWO13nWRGZJo4XVPiElXyrRMU.jpg   \n",
       "3  /yB5wRu4uyXXwZA3PEj8cITu0xt3.jpg   \n",
       "4  /iYypPT4bhqXfq1b6EnmxvRt6b2Y.jpg   \n",
       "\n",
       "                                production_companies  \\\n",
       "0                                                NaN   \n",
       "1  [{'id': 51207, 'logo_path': None, 'name': 'Sul...   \n",
       "2  [{'id': 7405, 'logo_path': '/rfnws0uY8rsNAsrLb...   \n",
       "3                                                 []   \n",
       "4  [{'id': 539, 'logo_path': '/iPLtePguIzOPNtAWfT...   \n",
       "\n",
       "                                production_countries release_date     revenue  \\\n",
       "0                                                NaN          NaN         NaN   \n",
       "1  [{'iso_3166_1': 'US', 'name': 'United States o...   2000-09-22         0.0   \n",
       "2  [{'iso_3166_1': 'US', 'name': 'United States o...   2000-11-15         0.0   \n",
       "3            [{'iso_3166_1': 'IN', 'name': 'India'}]   2000-04-14         0.0   \n",
       "4  [{'iso_3166_1': 'FR', 'name': 'France'}, {'iso...   2000-09-29  14204632.0   \n",
       "\n",
       "   runtime                                   spoken_languages    status  \\\n",
       "0      NaN                                                NaN       NaN   \n",
       "1     86.0  [{'english_name': 'English', 'iso_639_1': 'en'...  Released   \n",
       "2    100.0  [{'english_name': 'English', 'iso_639_1': 'en'...  Released   \n",
       "3    152.0  [{'english_name': 'Hindi', 'iso_639_1': 'hi', ...  Released   \n",
       "4     99.0  [{'english_name': 'Cantonese', 'iso_639_1': 'c...  Released   \n",
       "\n",
       "                                             tagline                 title  \\\n",
       "0                                                NaN                   NaN   \n",
       "1      Try to remember the first time magic happened       The Fantasticks   \n",
       "2       The ultimate showdown on a forbidden planet.         For the Cause   \n",
       "3                                                NaN                  Gang   \n",
       "4  Feel the heat, keep the feeling burning, let t...  In the Mood for Love   \n",
       "\n",
       "   video  vote_average  vote_count certification  \n",
       "0    NaN           NaN         NaN           NaN  \n",
       "1    0.0         5.500        22.0           NaN  \n",
       "2    0.0         5.450        10.0           NaN  \n",
       "3    0.0         4.000         1.0           NaN  \n",
       "4    0.0         8.111      2305.0            PG  "
      ]
     },
     "execution_count": 59,
     "metadata": {},
     "output_type": "execute_result"
    }
   ],
   "source": [
    "# Use list comprehension to load all files into 1 data frame\n",
    "df = pd.concat([pd.read_csv(f, lineterminator = '\\n') for f in file_list])\n",
    "df.head()"
   ]
  },
  {
   "cell_type": "code",
   "execution_count": 60,
   "id": "948824c4",
   "metadata": {},
   "outputs": [
    {
     "data": {
      "text/html": [
       "<div>\n",
       "<style scoped>\n",
       "    .dataframe tbody tr th:only-of-type {\n",
       "        vertical-align: middle;\n",
       "    }\n",
       "\n",
       "    .dataframe tbody tr th {\n",
       "        vertical-align: top;\n",
       "    }\n",
       "\n",
       "    .dataframe thead th {\n",
       "        text-align: right;\n",
       "    }\n",
       "</style>\n",
       "<table border=\"1\" class=\"dataframe\">\n",
       "  <thead>\n",
       "    <tr style=\"text-align: right;\">\n",
       "      <th></th>\n",
       "      <th>imdb_id</th>\n",
       "      <th>adult</th>\n",
       "      <th>backdrop_path</th>\n",
       "      <th>belongs_to_collection</th>\n",
       "      <th>budget</th>\n",
       "      <th>genres</th>\n",
       "      <th>homepage</th>\n",
       "      <th>id</th>\n",
       "      <th>original_language</th>\n",
       "      <th>original_title</th>\n",
       "      <th>overview</th>\n",
       "      <th>popularity</th>\n",
       "      <th>poster_path</th>\n",
       "      <th>production_companies</th>\n",
       "      <th>production_countries</th>\n",
       "      <th>release_date</th>\n",
       "      <th>revenue</th>\n",
       "      <th>runtime</th>\n",
       "      <th>spoken_languages</th>\n",
       "      <th>status</th>\n",
       "      <th>tagline</th>\n",
       "      <th>title</th>\n",
       "      <th>video</th>\n",
       "      <th>vote_average</th>\n",
       "      <th>vote_count</th>\n",
       "      <th>certification</th>\n",
       "    </tr>\n",
       "  </thead>\n",
       "  <tbody>\n",
       "    <tr>\n",
       "      <th>1</th>\n",
       "      <td>tt0113026</td>\n",
       "      <td>0.0</td>\n",
       "      <td>/vMFs7nw6P0bIV1jDsQpxAieAVnH.jpg</td>\n",
       "      <td>NaN</td>\n",
       "      <td>10000000.0</td>\n",
       "      <td>[{'id': 35, 'name': 'Comedy'}, {'id': 10402, '...</td>\n",
       "      <td>NaN</td>\n",
       "      <td>62127.0</td>\n",
       "      <td>en</td>\n",
       "      <td>The Fantasticks</td>\n",
       "      <td>Two rural teens sing and dance their way throu...</td>\n",
       "      <td>2.075</td>\n",
       "      <td>/hfO64mXz3DgUxkBVU7no2UWRP7x.jpg</td>\n",
       "      <td>[{'id': 51207, 'logo_path': None, 'name': 'Sul...</td>\n",
       "      <td>[{'iso_3166_1': 'US', 'name': 'United States o...</td>\n",
       "      <td>2000-09-22</td>\n",
       "      <td>0.0</td>\n",
       "      <td>86.0</td>\n",
       "      <td>[{'english_name': 'English', 'iso_639_1': 'en'...</td>\n",
       "      <td>Released</td>\n",
       "      <td>Try to remember the first time magic happened</td>\n",
       "      <td>The Fantasticks</td>\n",
       "      <td>0.0</td>\n",
       "      <td>5.500</td>\n",
       "      <td>22.0</td>\n",
       "      <td>NaN</td>\n",
       "    </tr>\n",
       "    <tr>\n",
       "      <th>2</th>\n",
       "      <td>tt0113092</td>\n",
       "      <td>0.0</td>\n",
       "      <td>NaN</td>\n",
       "      <td>NaN</td>\n",
       "      <td>0.0</td>\n",
       "      <td>[{'id': 878, 'name': 'Science Fiction'}]</td>\n",
       "      <td>NaN</td>\n",
       "      <td>110977.0</td>\n",
       "      <td>en</td>\n",
       "      <td>For the Cause</td>\n",
       "      <td>Earth is in a state of constant war and two co...</td>\n",
       "      <td>0.704</td>\n",
       "      <td>/h9bWO13nWRGZJo4XVPiElXyrRMU.jpg</td>\n",
       "      <td>[{'id': 7405, 'logo_path': '/rfnws0uY8rsNAsrLb...</td>\n",
       "      <td>[{'iso_3166_1': 'US', 'name': 'United States o...</td>\n",
       "      <td>2000-11-15</td>\n",
       "      <td>0.0</td>\n",
       "      <td>100.0</td>\n",
       "      <td>[{'english_name': 'English', 'iso_639_1': 'en'...</td>\n",
       "      <td>Released</td>\n",
       "      <td>The ultimate showdown on a forbidden planet.</td>\n",
       "      <td>For the Cause</td>\n",
       "      <td>0.0</td>\n",
       "      <td>5.450</td>\n",
       "      <td>10.0</td>\n",
       "      <td>NaN</td>\n",
       "    </tr>\n",
       "    <tr>\n",
       "      <th>3</th>\n",
       "      <td>tt0116391</td>\n",
       "      <td>0.0</td>\n",
       "      <td>NaN</td>\n",
       "      <td>NaN</td>\n",
       "      <td>0.0</td>\n",
       "      <td>[{'id': 18, 'name': 'Drama'}, {'id': 28, 'name...</td>\n",
       "      <td>NaN</td>\n",
       "      <td>442869.0</td>\n",
       "      <td>hi</td>\n",
       "      <td>Gang</td>\n",
       "      <td>After falling prey to underworld, four friends...</td>\n",
       "      <td>0.887</td>\n",
       "      <td>/yB5wRu4uyXXwZA3PEj8cITu0xt3.jpg</td>\n",
       "      <td>[]</td>\n",
       "      <td>[{'iso_3166_1': 'IN', 'name': 'India'}]</td>\n",
       "      <td>2000-04-14</td>\n",
       "      <td>0.0</td>\n",
       "      <td>152.0</td>\n",
       "      <td>[{'english_name': 'Hindi', 'iso_639_1': 'hi', ...</td>\n",
       "      <td>Released</td>\n",
       "      <td>NaN</td>\n",
       "      <td>Gang</td>\n",
       "      <td>0.0</td>\n",
       "      <td>4.000</td>\n",
       "      <td>1.0</td>\n",
       "      <td>NaN</td>\n",
       "    </tr>\n",
       "    <tr>\n",
       "      <th>4</th>\n",
       "      <td>tt0118694</td>\n",
       "      <td>0.0</td>\n",
       "      <td>/n4GJFGzsc7NinI1VeGDXIcQjtU2.jpg</td>\n",
       "      <td>NaN</td>\n",
       "      <td>150000.0</td>\n",
       "      <td>[{'id': 18, 'name': 'Drama'}, {'id': 10749, 'n...</td>\n",
       "      <td>NaN</td>\n",
       "      <td>843.0</td>\n",
       "      <td>cn</td>\n",
       "      <td>花樣年華</td>\n",
       "      <td>Two neighbors become intimate after discoverin...</td>\n",
       "      <td>26.988</td>\n",
       "      <td>/iYypPT4bhqXfq1b6EnmxvRt6b2Y.jpg</td>\n",
       "      <td>[{'id': 539, 'logo_path': '/iPLtePguIzOPNtAWfT...</td>\n",
       "      <td>[{'iso_3166_1': 'FR', 'name': 'France'}, {'iso...</td>\n",
       "      <td>2000-09-29</td>\n",
       "      <td>14204632.0</td>\n",
       "      <td>99.0</td>\n",
       "      <td>[{'english_name': 'Cantonese', 'iso_639_1': 'c...</td>\n",
       "      <td>Released</td>\n",
       "      <td>Feel the heat, keep the feeling burning, let t...</td>\n",
       "      <td>In the Mood for Love</td>\n",
       "      <td>0.0</td>\n",
       "      <td>8.111</td>\n",
       "      <td>2305.0</td>\n",
       "      <td>PG</td>\n",
       "    </tr>\n",
       "    <tr>\n",
       "      <th>5</th>\n",
       "      <td>tt0118852</td>\n",
       "      <td>0.0</td>\n",
       "      <td>/vceiGZ3uavAEHlTA7v0GjQsGVKe.jpg</td>\n",
       "      <td>NaN</td>\n",
       "      <td>0.0</td>\n",
       "      <td>[{'id': 18, 'name': 'Drama'}]</td>\n",
       "      <td>NaN</td>\n",
       "      <td>49511.0</td>\n",
       "      <td>en</td>\n",
       "      <td>Chinese Coffee</td>\n",
       "      <td>When Harry Levine, an aging, unsuccessful Gree...</td>\n",
       "      <td>2.984</td>\n",
       "      <td>/nZGWnSuf1FIuzyEuMRZHHZWViAp.jpg</td>\n",
       "      <td>[{'id': 67930, 'logo_path': None, 'name': 'Cha...</td>\n",
       "      <td>[{'iso_3166_1': 'US', 'name': 'United States o...</td>\n",
       "      <td>2000-09-02</td>\n",
       "      <td>0.0</td>\n",
       "      <td>99.0</td>\n",
       "      <td>[{'english_name': 'English', 'iso_639_1': 'en'...</td>\n",
       "      <td>Released</td>\n",
       "      <td>There's a fine line between friendship and bet...</td>\n",
       "      <td>Chinese Coffee</td>\n",
       "      <td>0.0</td>\n",
       "      <td>6.642</td>\n",
       "      <td>53.0</td>\n",
       "      <td>R</td>\n",
       "    </tr>\n",
       "  </tbody>\n",
       "</table>\n",
       "</div>"
      ],
      "text/plain": [
       "     imdb_id  adult                     backdrop_path belongs_to_collection  \\\n",
       "1  tt0113026    0.0  /vMFs7nw6P0bIV1jDsQpxAieAVnH.jpg                   NaN   \n",
       "2  tt0113092    0.0                               NaN                   NaN   \n",
       "3  tt0116391    0.0                               NaN                   NaN   \n",
       "4  tt0118694    0.0  /n4GJFGzsc7NinI1VeGDXIcQjtU2.jpg                   NaN   \n",
       "5  tt0118852    0.0  /vceiGZ3uavAEHlTA7v0GjQsGVKe.jpg                   NaN   \n",
       "\n",
       "       budget                                             genres homepage  \\\n",
       "1  10000000.0  [{'id': 35, 'name': 'Comedy'}, {'id': 10402, '...      NaN   \n",
       "2         0.0           [{'id': 878, 'name': 'Science Fiction'}]      NaN   \n",
       "3         0.0  [{'id': 18, 'name': 'Drama'}, {'id': 28, 'name...      NaN   \n",
       "4    150000.0  [{'id': 18, 'name': 'Drama'}, {'id': 10749, 'n...      NaN   \n",
       "5         0.0                      [{'id': 18, 'name': 'Drama'}]      NaN   \n",
       "\n",
       "         id original_language   original_title  \\\n",
       "1   62127.0                en  The Fantasticks   \n",
       "2  110977.0                en    For the Cause   \n",
       "3  442869.0                hi             Gang   \n",
       "4     843.0                cn             花樣年華   \n",
       "5   49511.0                en   Chinese Coffee   \n",
       "\n",
       "                                            overview  popularity  \\\n",
       "1  Two rural teens sing and dance their way throu...       2.075   \n",
       "2  Earth is in a state of constant war and two co...       0.704   \n",
       "3  After falling prey to underworld, four friends...       0.887   \n",
       "4  Two neighbors become intimate after discoverin...      26.988   \n",
       "5  When Harry Levine, an aging, unsuccessful Gree...       2.984   \n",
       "\n",
       "                        poster_path  \\\n",
       "1  /hfO64mXz3DgUxkBVU7no2UWRP7x.jpg   \n",
       "2  /h9bWO13nWRGZJo4XVPiElXyrRMU.jpg   \n",
       "3  /yB5wRu4uyXXwZA3PEj8cITu0xt3.jpg   \n",
       "4  /iYypPT4bhqXfq1b6EnmxvRt6b2Y.jpg   \n",
       "5  /nZGWnSuf1FIuzyEuMRZHHZWViAp.jpg   \n",
       "\n",
       "                                production_companies  \\\n",
       "1  [{'id': 51207, 'logo_path': None, 'name': 'Sul...   \n",
       "2  [{'id': 7405, 'logo_path': '/rfnws0uY8rsNAsrLb...   \n",
       "3                                                 []   \n",
       "4  [{'id': 539, 'logo_path': '/iPLtePguIzOPNtAWfT...   \n",
       "5  [{'id': 67930, 'logo_path': None, 'name': 'Cha...   \n",
       "\n",
       "                                production_countries release_date     revenue  \\\n",
       "1  [{'iso_3166_1': 'US', 'name': 'United States o...   2000-09-22         0.0   \n",
       "2  [{'iso_3166_1': 'US', 'name': 'United States o...   2000-11-15         0.0   \n",
       "3            [{'iso_3166_1': 'IN', 'name': 'India'}]   2000-04-14         0.0   \n",
       "4  [{'iso_3166_1': 'FR', 'name': 'France'}, {'iso...   2000-09-29  14204632.0   \n",
       "5  [{'iso_3166_1': 'US', 'name': 'United States o...   2000-09-02         0.0   \n",
       "\n",
       "   runtime                                   spoken_languages    status  \\\n",
       "1     86.0  [{'english_name': 'English', 'iso_639_1': 'en'...  Released   \n",
       "2    100.0  [{'english_name': 'English', 'iso_639_1': 'en'...  Released   \n",
       "3    152.0  [{'english_name': 'Hindi', 'iso_639_1': 'hi', ...  Released   \n",
       "4     99.0  [{'english_name': 'Cantonese', 'iso_639_1': 'c...  Released   \n",
       "5     99.0  [{'english_name': 'English', 'iso_639_1': 'en'...  Released   \n",
       "\n",
       "                                             tagline                 title  \\\n",
       "1      Try to remember the first time magic happened       The Fantasticks   \n",
       "2       The ultimate showdown on a forbidden planet.         For the Cause   \n",
       "3                                                NaN                  Gang   \n",
       "4  Feel the heat, keep the feeling burning, let t...  In the Mood for Love   \n",
       "5  There's a fine line between friendship and bet...        Chinese Coffee   \n",
       "\n",
       "   video  vote_average  vote_count certification  \n",
       "1    0.0         5.500        22.0           NaN  \n",
       "2    0.0         5.450        10.0           NaN  \n",
       "3    0.0         4.000         1.0           NaN  \n",
       "4    0.0         8.111      2305.0            PG  \n",
       "5    0.0         6.642        53.0             R  "
      ]
     },
     "execution_count": 60,
     "metadata": {},
     "output_type": "execute_result"
    }
   ],
   "source": [
    "# Remove zero id\n",
    "df = df.loc[df['imdb_id'] != '0']\n",
    "df.head()"
   ]
  },
  {
   "cell_type": "code",
   "execution_count": 61,
   "id": "fecaac07",
   "metadata": {},
   "outputs": [
    {
     "data": {
      "text/html": [
       "<div>\n",
       "<style scoped>\n",
       "    .dataframe tbody tr th:only-of-type {\n",
       "        vertical-align: middle;\n",
       "    }\n",
       "\n",
       "    .dataframe tbody tr th {\n",
       "        vertical-align: top;\n",
       "    }\n",
       "\n",
       "    .dataframe thead th {\n",
       "        text-align: right;\n",
       "    }\n",
       "</style>\n",
       "<table border=\"1\" class=\"dataframe\">\n",
       "  <thead>\n",
       "    <tr style=\"text-align: right;\">\n",
       "      <th></th>\n",
       "      <th>imdb_id</th>\n",
       "      <th>adult</th>\n",
       "      <th>backdrop_path</th>\n",
       "      <th>belongs_to_collection</th>\n",
       "      <th>budget</th>\n",
       "      <th>genres</th>\n",
       "      <th>homepage</th>\n",
       "      <th>id</th>\n",
       "      <th>original_language</th>\n",
       "      <th>original_title</th>\n",
       "      <th>overview</th>\n",
       "      <th>popularity</th>\n",
       "      <th>poster_path</th>\n",
       "      <th>production_companies</th>\n",
       "      <th>production_countries</th>\n",
       "      <th>release_date</th>\n",
       "      <th>revenue</th>\n",
       "      <th>runtime</th>\n",
       "      <th>spoken_languages</th>\n",
       "      <th>status</th>\n",
       "      <th>tagline</th>\n",
       "      <th>title</th>\n",
       "      <th>video</th>\n",
       "      <th>vote_average</th>\n",
       "      <th>vote_count</th>\n",
       "      <th>certification</th>\n",
       "    </tr>\n",
       "  </thead>\n",
       "  <tbody>\n",
       "    <tr>\n",
       "      <th>0</th>\n",
       "      <td>tt0113026</td>\n",
       "      <td>0.0</td>\n",
       "      <td>/vMFs7nw6P0bIV1jDsQpxAieAVnH.jpg</td>\n",
       "      <td>NaN</td>\n",
       "      <td>10000000.0</td>\n",
       "      <td>[{'id': 35, 'name': 'Comedy'}, {'id': 10402, '...</td>\n",
       "      <td>NaN</td>\n",
       "      <td>62127.0</td>\n",
       "      <td>en</td>\n",
       "      <td>The Fantasticks</td>\n",
       "      <td>Two rural teens sing and dance their way throu...</td>\n",
       "      <td>2.075</td>\n",
       "      <td>/hfO64mXz3DgUxkBVU7no2UWRP7x.jpg</td>\n",
       "      <td>[{'id': 51207, 'logo_path': None, 'name': 'Sul...</td>\n",
       "      <td>[{'iso_3166_1': 'US', 'name': 'United States o...</td>\n",
       "      <td>2000-09-22</td>\n",
       "      <td>0.0</td>\n",
       "      <td>86.0</td>\n",
       "      <td>[{'english_name': 'English', 'iso_639_1': 'en'...</td>\n",
       "      <td>Released</td>\n",
       "      <td>Try to remember the first time magic happened</td>\n",
       "      <td>The Fantasticks</td>\n",
       "      <td>0.0</td>\n",
       "      <td>5.500</td>\n",
       "      <td>22.0</td>\n",
       "      <td>NaN</td>\n",
       "    </tr>\n",
       "    <tr>\n",
       "      <th>1</th>\n",
       "      <td>tt0113092</td>\n",
       "      <td>0.0</td>\n",
       "      <td>NaN</td>\n",
       "      <td>NaN</td>\n",
       "      <td>0.0</td>\n",
       "      <td>[{'id': 878, 'name': 'Science Fiction'}]</td>\n",
       "      <td>NaN</td>\n",
       "      <td>110977.0</td>\n",
       "      <td>en</td>\n",
       "      <td>For the Cause</td>\n",
       "      <td>Earth is in a state of constant war and two co...</td>\n",
       "      <td>0.704</td>\n",
       "      <td>/h9bWO13nWRGZJo4XVPiElXyrRMU.jpg</td>\n",
       "      <td>[{'id': 7405, 'logo_path': '/rfnws0uY8rsNAsrLb...</td>\n",
       "      <td>[{'iso_3166_1': 'US', 'name': 'United States o...</td>\n",
       "      <td>2000-11-15</td>\n",
       "      <td>0.0</td>\n",
       "      <td>100.0</td>\n",
       "      <td>[{'english_name': 'English', 'iso_639_1': 'en'...</td>\n",
       "      <td>Released</td>\n",
       "      <td>The ultimate showdown on a forbidden planet.</td>\n",
       "      <td>For the Cause</td>\n",
       "      <td>0.0</td>\n",
       "      <td>5.450</td>\n",
       "      <td>10.0</td>\n",
       "      <td>NaN</td>\n",
       "    </tr>\n",
       "    <tr>\n",
       "      <th>2</th>\n",
       "      <td>tt0116391</td>\n",
       "      <td>0.0</td>\n",
       "      <td>NaN</td>\n",
       "      <td>NaN</td>\n",
       "      <td>0.0</td>\n",
       "      <td>[{'id': 18, 'name': 'Drama'}, {'id': 28, 'name...</td>\n",
       "      <td>NaN</td>\n",
       "      <td>442869.0</td>\n",
       "      <td>hi</td>\n",
       "      <td>Gang</td>\n",
       "      <td>After falling prey to underworld, four friends...</td>\n",
       "      <td>0.887</td>\n",
       "      <td>/yB5wRu4uyXXwZA3PEj8cITu0xt3.jpg</td>\n",
       "      <td>[]</td>\n",
       "      <td>[{'iso_3166_1': 'IN', 'name': 'India'}]</td>\n",
       "      <td>2000-04-14</td>\n",
       "      <td>0.0</td>\n",
       "      <td>152.0</td>\n",
       "      <td>[{'english_name': 'Hindi', 'iso_639_1': 'hi', ...</td>\n",
       "      <td>Released</td>\n",
       "      <td>NaN</td>\n",
       "      <td>Gang</td>\n",
       "      <td>0.0</td>\n",
       "      <td>4.000</td>\n",
       "      <td>1.0</td>\n",
       "      <td>NaN</td>\n",
       "    </tr>\n",
       "    <tr>\n",
       "      <th>3</th>\n",
       "      <td>tt0118694</td>\n",
       "      <td>0.0</td>\n",
       "      <td>/n4GJFGzsc7NinI1VeGDXIcQjtU2.jpg</td>\n",
       "      <td>NaN</td>\n",
       "      <td>150000.0</td>\n",
       "      <td>[{'id': 18, 'name': 'Drama'}, {'id': 10749, 'n...</td>\n",
       "      <td>NaN</td>\n",
       "      <td>843.0</td>\n",
       "      <td>cn</td>\n",
       "      <td>花樣年華</td>\n",
       "      <td>Two neighbors become intimate after discoverin...</td>\n",
       "      <td>26.988</td>\n",
       "      <td>/iYypPT4bhqXfq1b6EnmxvRt6b2Y.jpg</td>\n",
       "      <td>[{'id': 539, 'logo_path': '/iPLtePguIzOPNtAWfT...</td>\n",
       "      <td>[{'iso_3166_1': 'FR', 'name': 'France'}, {'iso...</td>\n",
       "      <td>2000-09-29</td>\n",
       "      <td>14204632.0</td>\n",
       "      <td>99.0</td>\n",
       "      <td>[{'english_name': 'Cantonese', 'iso_639_1': 'c...</td>\n",
       "      <td>Released</td>\n",
       "      <td>Feel the heat, keep the feeling burning, let t...</td>\n",
       "      <td>In the Mood for Love</td>\n",
       "      <td>0.0</td>\n",
       "      <td>8.111</td>\n",
       "      <td>2305.0</td>\n",
       "      <td>PG</td>\n",
       "    </tr>\n",
       "    <tr>\n",
       "      <th>4</th>\n",
       "      <td>tt0118852</td>\n",
       "      <td>0.0</td>\n",
       "      <td>/vceiGZ3uavAEHlTA7v0GjQsGVKe.jpg</td>\n",
       "      <td>NaN</td>\n",
       "      <td>0.0</td>\n",
       "      <td>[{'id': 18, 'name': 'Drama'}]</td>\n",
       "      <td>NaN</td>\n",
       "      <td>49511.0</td>\n",
       "      <td>en</td>\n",
       "      <td>Chinese Coffee</td>\n",
       "      <td>When Harry Levine, an aging, unsuccessful Gree...</td>\n",
       "      <td>2.984</td>\n",
       "      <td>/nZGWnSuf1FIuzyEuMRZHHZWViAp.jpg</td>\n",
       "      <td>[{'id': 67930, 'logo_path': None, 'name': 'Cha...</td>\n",
       "      <td>[{'iso_3166_1': 'US', 'name': 'United States o...</td>\n",
       "      <td>2000-09-02</td>\n",
       "      <td>0.0</td>\n",
       "      <td>99.0</td>\n",
       "      <td>[{'english_name': 'English', 'iso_639_1': 'en'...</td>\n",
       "      <td>Released</td>\n",
       "      <td>There's a fine line between friendship and bet...</td>\n",
       "      <td>Chinese Coffee</td>\n",
       "      <td>0.0</td>\n",
       "      <td>6.642</td>\n",
       "      <td>53.0</td>\n",
       "      <td>R</td>\n",
       "    </tr>\n",
       "  </tbody>\n",
       "</table>\n",
       "</div>"
      ],
      "text/plain": [
       "     imdb_id  adult                     backdrop_path belongs_to_collection  \\\n",
       "0  tt0113026    0.0  /vMFs7nw6P0bIV1jDsQpxAieAVnH.jpg                   NaN   \n",
       "1  tt0113092    0.0                               NaN                   NaN   \n",
       "2  tt0116391    0.0                               NaN                   NaN   \n",
       "3  tt0118694    0.0  /n4GJFGzsc7NinI1VeGDXIcQjtU2.jpg                   NaN   \n",
       "4  tt0118852    0.0  /vceiGZ3uavAEHlTA7v0GjQsGVKe.jpg                   NaN   \n",
       "\n",
       "       budget                                             genres homepage  \\\n",
       "0  10000000.0  [{'id': 35, 'name': 'Comedy'}, {'id': 10402, '...      NaN   \n",
       "1         0.0           [{'id': 878, 'name': 'Science Fiction'}]      NaN   \n",
       "2         0.0  [{'id': 18, 'name': 'Drama'}, {'id': 28, 'name...      NaN   \n",
       "3    150000.0  [{'id': 18, 'name': 'Drama'}, {'id': 10749, 'n...      NaN   \n",
       "4         0.0                      [{'id': 18, 'name': 'Drama'}]      NaN   \n",
       "\n",
       "         id original_language   original_title  \\\n",
       "0   62127.0                en  The Fantasticks   \n",
       "1  110977.0                en    For the Cause   \n",
       "2  442869.0                hi             Gang   \n",
       "3     843.0                cn             花樣年華   \n",
       "4   49511.0                en   Chinese Coffee   \n",
       "\n",
       "                                            overview  popularity  \\\n",
       "0  Two rural teens sing and dance their way throu...       2.075   \n",
       "1  Earth is in a state of constant war and two co...       0.704   \n",
       "2  After falling prey to underworld, four friends...       0.887   \n",
       "3  Two neighbors become intimate after discoverin...      26.988   \n",
       "4  When Harry Levine, an aging, unsuccessful Gree...       2.984   \n",
       "\n",
       "                        poster_path  \\\n",
       "0  /hfO64mXz3DgUxkBVU7no2UWRP7x.jpg   \n",
       "1  /h9bWO13nWRGZJo4XVPiElXyrRMU.jpg   \n",
       "2  /yB5wRu4uyXXwZA3PEj8cITu0xt3.jpg   \n",
       "3  /iYypPT4bhqXfq1b6EnmxvRt6b2Y.jpg   \n",
       "4  /nZGWnSuf1FIuzyEuMRZHHZWViAp.jpg   \n",
       "\n",
       "                                production_companies  \\\n",
       "0  [{'id': 51207, 'logo_path': None, 'name': 'Sul...   \n",
       "1  [{'id': 7405, 'logo_path': '/rfnws0uY8rsNAsrLb...   \n",
       "2                                                 []   \n",
       "3  [{'id': 539, 'logo_path': '/iPLtePguIzOPNtAWfT...   \n",
       "4  [{'id': 67930, 'logo_path': None, 'name': 'Cha...   \n",
       "\n",
       "                                production_countries release_date     revenue  \\\n",
       "0  [{'iso_3166_1': 'US', 'name': 'United States o...   2000-09-22         0.0   \n",
       "1  [{'iso_3166_1': 'US', 'name': 'United States o...   2000-11-15         0.0   \n",
       "2            [{'iso_3166_1': 'IN', 'name': 'India'}]   2000-04-14         0.0   \n",
       "3  [{'iso_3166_1': 'FR', 'name': 'France'}, {'iso...   2000-09-29  14204632.0   \n",
       "4  [{'iso_3166_1': 'US', 'name': 'United States o...   2000-09-02         0.0   \n",
       "\n",
       "   runtime                                   spoken_languages    status  \\\n",
       "0     86.0  [{'english_name': 'English', 'iso_639_1': 'en'...  Released   \n",
       "1    100.0  [{'english_name': 'English', 'iso_639_1': 'en'...  Released   \n",
       "2    152.0  [{'english_name': 'Hindi', 'iso_639_1': 'hi', ...  Released   \n",
       "3     99.0  [{'english_name': 'Cantonese', 'iso_639_1': 'c...  Released   \n",
       "4     99.0  [{'english_name': 'English', 'iso_639_1': 'en'...  Released   \n",
       "\n",
       "                                             tagline                 title  \\\n",
       "0      Try to remember the first time magic happened       The Fantasticks   \n",
       "1       The ultimate showdown on a forbidden planet.         For the Cause   \n",
       "2                                                NaN                  Gang   \n",
       "3  Feel the heat, keep the feeling burning, let t...  In the Mood for Love   \n",
       "4  There's a fine line between friendship and bet...        Chinese Coffee   \n",
       "\n",
       "   video  vote_average  vote_count certification  \n",
       "0    0.0         5.500        22.0           NaN  \n",
       "1    0.0         5.450        10.0           NaN  \n",
       "2    0.0         4.000         1.0           NaN  \n",
       "3    0.0         8.111      2305.0            PG  \n",
       "4    0.0         6.642        53.0             R  "
      ]
     },
     "execution_count": 61,
     "metadata": {},
     "output_type": "execute_result"
    }
   ],
   "source": [
    "# Reset index\n",
    "df = df.reset_index(drop = True)\n",
    "df.head()"
   ]
  },
  {
   "cell_type": "code",
   "execution_count": 62,
   "id": "888803a7",
   "metadata": {},
   "outputs": [],
   "source": [
    "# Save data\n",
    "df.to_csv(FOLDER+'combined_tmdb_data.csv.gz', compression = 'gzip', index = False)"
   ]
  },
  {
   "cell_type": "markdown",
   "id": "ae1e6d65",
   "metadata": {},
   "source": [
    "## Load Data"
   ]
  },
  {
   "cell_type": "code",
   "execution_count": 63,
   "id": "5674cf5e",
   "metadata": {},
   "outputs": [
    {
     "data": {
      "text/html": [
       "<div>\n",
       "<style scoped>\n",
       "    .dataframe tbody tr th:only-of-type {\n",
       "        vertical-align: middle;\n",
       "    }\n",
       "\n",
       "    .dataframe tbody tr th {\n",
       "        vertical-align: top;\n",
       "    }\n",
       "\n",
       "    .dataframe thead th {\n",
       "        text-align: right;\n",
       "    }\n",
       "</style>\n",
       "<table border=\"1\" class=\"dataframe\">\n",
       "  <thead>\n",
       "    <tr style=\"text-align: right;\">\n",
       "      <th></th>\n",
       "      <th>imdb_id</th>\n",
       "      <th>adult</th>\n",
       "      <th>backdrop_path</th>\n",
       "      <th>belongs_to_collection</th>\n",
       "      <th>budget</th>\n",
       "      <th>genres</th>\n",
       "      <th>homepage</th>\n",
       "      <th>id</th>\n",
       "      <th>original_language</th>\n",
       "      <th>original_title</th>\n",
       "      <th>overview</th>\n",
       "      <th>popularity</th>\n",
       "      <th>poster_path</th>\n",
       "      <th>production_companies</th>\n",
       "      <th>production_countries</th>\n",
       "      <th>release_date</th>\n",
       "      <th>revenue</th>\n",
       "      <th>runtime</th>\n",
       "      <th>spoken_languages</th>\n",
       "      <th>status</th>\n",
       "      <th>tagline</th>\n",
       "      <th>title</th>\n",
       "      <th>video</th>\n",
       "      <th>vote_average</th>\n",
       "      <th>vote_count</th>\n",
       "      <th>certification</th>\n",
       "    </tr>\n",
       "  </thead>\n",
       "  <tbody>\n",
       "    <tr>\n",
       "      <th>0</th>\n",
       "      <td>tt0113026</td>\n",
       "      <td>0.0</td>\n",
       "      <td>/vMFs7nw6P0bIV1jDsQpxAieAVnH.jpg</td>\n",
       "      <td>NaN</td>\n",
       "      <td>10000000.0</td>\n",
       "      <td>[{'id': 35, 'name': 'Comedy'}, {'id': 10402, '...</td>\n",
       "      <td>NaN</td>\n",
       "      <td>62127.0</td>\n",
       "      <td>en</td>\n",
       "      <td>The Fantasticks</td>\n",
       "      <td>Two rural teens sing and dance their way throu...</td>\n",
       "      <td>2.075</td>\n",
       "      <td>/hfO64mXz3DgUxkBVU7no2UWRP7x.jpg</td>\n",
       "      <td>[{'id': 51207, 'logo_path': None, 'name': 'Sul...</td>\n",
       "      <td>[{'iso_3166_1': 'US', 'name': 'United States o...</td>\n",
       "      <td>2000-09-22</td>\n",
       "      <td>0.0</td>\n",
       "      <td>86.0</td>\n",
       "      <td>[{'english_name': 'English', 'iso_639_1': 'en'...</td>\n",
       "      <td>Released</td>\n",
       "      <td>Try to remember the first time magic happened</td>\n",
       "      <td>The Fantasticks</td>\n",
       "      <td>0.0</td>\n",
       "      <td>5.500</td>\n",
       "      <td>22.0</td>\n",
       "      <td>NaN</td>\n",
       "    </tr>\n",
       "    <tr>\n",
       "      <th>1</th>\n",
       "      <td>tt0113092</td>\n",
       "      <td>0.0</td>\n",
       "      <td>NaN</td>\n",
       "      <td>NaN</td>\n",
       "      <td>0.0</td>\n",
       "      <td>[{'id': 878, 'name': 'Science Fiction'}]</td>\n",
       "      <td>NaN</td>\n",
       "      <td>110977.0</td>\n",
       "      <td>en</td>\n",
       "      <td>For the Cause</td>\n",
       "      <td>Earth is in a state of constant war and two co...</td>\n",
       "      <td>0.704</td>\n",
       "      <td>/h9bWO13nWRGZJo4XVPiElXyrRMU.jpg</td>\n",
       "      <td>[{'id': 7405, 'logo_path': '/rfnws0uY8rsNAsrLb...</td>\n",
       "      <td>[{'iso_3166_1': 'US', 'name': 'United States o...</td>\n",
       "      <td>2000-11-15</td>\n",
       "      <td>0.0</td>\n",
       "      <td>100.0</td>\n",
       "      <td>[{'english_name': 'English', 'iso_639_1': 'en'...</td>\n",
       "      <td>Released</td>\n",
       "      <td>The ultimate showdown on a forbidden planet.</td>\n",
       "      <td>For the Cause</td>\n",
       "      <td>0.0</td>\n",
       "      <td>5.450</td>\n",
       "      <td>10.0</td>\n",
       "      <td>NaN</td>\n",
       "    </tr>\n",
       "    <tr>\n",
       "      <th>2</th>\n",
       "      <td>tt0116391</td>\n",
       "      <td>0.0</td>\n",
       "      <td>NaN</td>\n",
       "      <td>NaN</td>\n",
       "      <td>0.0</td>\n",
       "      <td>[{'id': 18, 'name': 'Drama'}, {'id': 28, 'name...</td>\n",
       "      <td>NaN</td>\n",
       "      <td>442869.0</td>\n",
       "      <td>hi</td>\n",
       "      <td>Gang</td>\n",
       "      <td>After falling prey to underworld, four friends...</td>\n",
       "      <td>0.887</td>\n",
       "      <td>/yB5wRu4uyXXwZA3PEj8cITu0xt3.jpg</td>\n",
       "      <td>[]</td>\n",
       "      <td>[{'iso_3166_1': 'IN', 'name': 'India'}]</td>\n",
       "      <td>2000-04-14</td>\n",
       "      <td>0.0</td>\n",
       "      <td>152.0</td>\n",
       "      <td>[{'english_name': 'Hindi', 'iso_639_1': 'hi', ...</td>\n",
       "      <td>Released</td>\n",
       "      <td>NaN</td>\n",
       "      <td>Gang</td>\n",
       "      <td>0.0</td>\n",
       "      <td>4.000</td>\n",
       "      <td>1.0</td>\n",
       "      <td>NaN</td>\n",
       "    </tr>\n",
       "    <tr>\n",
       "      <th>3</th>\n",
       "      <td>tt0118694</td>\n",
       "      <td>0.0</td>\n",
       "      <td>/n4GJFGzsc7NinI1VeGDXIcQjtU2.jpg</td>\n",
       "      <td>NaN</td>\n",
       "      <td>150000.0</td>\n",
       "      <td>[{'id': 18, 'name': 'Drama'}, {'id': 10749, 'n...</td>\n",
       "      <td>NaN</td>\n",
       "      <td>843.0</td>\n",
       "      <td>cn</td>\n",
       "      <td>花樣年華</td>\n",
       "      <td>Two neighbors become intimate after discoverin...</td>\n",
       "      <td>26.988</td>\n",
       "      <td>/iYypPT4bhqXfq1b6EnmxvRt6b2Y.jpg</td>\n",
       "      <td>[{'id': 539, 'logo_path': '/iPLtePguIzOPNtAWfT...</td>\n",
       "      <td>[{'iso_3166_1': 'FR', 'name': 'France'}, {'iso...</td>\n",
       "      <td>2000-09-29</td>\n",
       "      <td>14204632.0</td>\n",
       "      <td>99.0</td>\n",
       "      <td>[{'english_name': 'Cantonese', 'iso_639_1': 'c...</td>\n",
       "      <td>Released</td>\n",
       "      <td>Feel the heat, keep the feeling burning, let t...</td>\n",
       "      <td>In the Mood for Love</td>\n",
       "      <td>0.0</td>\n",
       "      <td>8.111</td>\n",
       "      <td>2305.0</td>\n",
       "      <td>PG</td>\n",
       "    </tr>\n",
       "    <tr>\n",
       "      <th>4</th>\n",
       "      <td>tt0118852</td>\n",
       "      <td>0.0</td>\n",
       "      <td>/vceiGZ3uavAEHlTA7v0GjQsGVKe.jpg</td>\n",
       "      <td>NaN</td>\n",
       "      <td>0.0</td>\n",
       "      <td>[{'id': 18, 'name': 'Drama'}]</td>\n",
       "      <td>NaN</td>\n",
       "      <td>49511.0</td>\n",
       "      <td>en</td>\n",
       "      <td>Chinese Coffee</td>\n",
       "      <td>When Harry Levine, an aging, unsuccessful Gree...</td>\n",
       "      <td>2.984</td>\n",
       "      <td>/nZGWnSuf1FIuzyEuMRZHHZWViAp.jpg</td>\n",
       "      <td>[{'id': 67930, 'logo_path': None, 'name': 'Cha...</td>\n",
       "      <td>[{'iso_3166_1': 'US', 'name': 'United States o...</td>\n",
       "      <td>2000-09-02</td>\n",
       "      <td>0.0</td>\n",
       "      <td>99.0</td>\n",
       "      <td>[{'english_name': 'English', 'iso_639_1': 'en'...</td>\n",
       "      <td>Released</td>\n",
       "      <td>There's a fine line between friendship and bet...</td>\n",
       "      <td>Chinese Coffee</td>\n",
       "      <td>0.0</td>\n",
       "      <td>6.642</td>\n",
       "      <td>53.0</td>\n",
       "      <td>R</td>\n",
       "    </tr>\n",
       "  </tbody>\n",
       "</table>\n",
       "</div>"
      ],
      "text/plain": [
       "     imdb_id  adult                     backdrop_path belongs_to_collection  \\\n",
       "0  tt0113026    0.0  /vMFs7nw6P0bIV1jDsQpxAieAVnH.jpg                   NaN   \n",
       "1  tt0113092    0.0                               NaN                   NaN   \n",
       "2  tt0116391    0.0                               NaN                   NaN   \n",
       "3  tt0118694    0.0  /n4GJFGzsc7NinI1VeGDXIcQjtU2.jpg                   NaN   \n",
       "4  tt0118852    0.0  /vceiGZ3uavAEHlTA7v0GjQsGVKe.jpg                   NaN   \n",
       "\n",
       "       budget                                             genres homepage  \\\n",
       "0  10000000.0  [{'id': 35, 'name': 'Comedy'}, {'id': 10402, '...      NaN   \n",
       "1         0.0           [{'id': 878, 'name': 'Science Fiction'}]      NaN   \n",
       "2         0.0  [{'id': 18, 'name': 'Drama'}, {'id': 28, 'name...      NaN   \n",
       "3    150000.0  [{'id': 18, 'name': 'Drama'}, {'id': 10749, 'n...      NaN   \n",
       "4         0.0                      [{'id': 18, 'name': 'Drama'}]      NaN   \n",
       "\n",
       "         id original_language   original_title  \\\n",
       "0   62127.0                en  The Fantasticks   \n",
       "1  110977.0                en    For the Cause   \n",
       "2  442869.0                hi             Gang   \n",
       "3     843.0                cn             花樣年華   \n",
       "4   49511.0                en   Chinese Coffee   \n",
       "\n",
       "                                            overview  popularity  \\\n",
       "0  Two rural teens sing and dance their way throu...       2.075   \n",
       "1  Earth is in a state of constant war and two co...       0.704   \n",
       "2  After falling prey to underworld, four friends...       0.887   \n",
       "3  Two neighbors become intimate after discoverin...      26.988   \n",
       "4  When Harry Levine, an aging, unsuccessful Gree...       2.984   \n",
       "\n",
       "                        poster_path  \\\n",
       "0  /hfO64mXz3DgUxkBVU7no2UWRP7x.jpg   \n",
       "1  /h9bWO13nWRGZJo4XVPiElXyrRMU.jpg   \n",
       "2  /yB5wRu4uyXXwZA3PEj8cITu0xt3.jpg   \n",
       "3  /iYypPT4bhqXfq1b6EnmxvRt6b2Y.jpg   \n",
       "4  /nZGWnSuf1FIuzyEuMRZHHZWViAp.jpg   \n",
       "\n",
       "                                production_companies  \\\n",
       "0  [{'id': 51207, 'logo_path': None, 'name': 'Sul...   \n",
       "1  [{'id': 7405, 'logo_path': '/rfnws0uY8rsNAsrLb...   \n",
       "2                                                 []   \n",
       "3  [{'id': 539, 'logo_path': '/iPLtePguIzOPNtAWfT...   \n",
       "4  [{'id': 67930, 'logo_path': None, 'name': 'Cha...   \n",
       "\n",
       "                                production_countries release_date     revenue  \\\n",
       "0  [{'iso_3166_1': 'US', 'name': 'United States o...   2000-09-22         0.0   \n",
       "1  [{'iso_3166_1': 'US', 'name': 'United States o...   2000-11-15         0.0   \n",
       "2            [{'iso_3166_1': 'IN', 'name': 'India'}]   2000-04-14         0.0   \n",
       "3  [{'iso_3166_1': 'FR', 'name': 'France'}, {'iso...   2000-09-29  14204632.0   \n",
       "4  [{'iso_3166_1': 'US', 'name': 'United States o...   2000-09-02         0.0   \n",
       "\n",
       "   runtime                                   spoken_languages    status  \\\n",
       "0     86.0  [{'english_name': 'English', 'iso_639_1': 'en'...  Released   \n",
       "1    100.0  [{'english_name': 'English', 'iso_639_1': 'en'...  Released   \n",
       "2    152.0  [{'english_name': 'Hindi', 'iso_639_1': 'hi', ...  Released   \n",
       "3     99.0  [{'english_name': 'Cantonese', 'iso_639_1': 'c...  Released   \n",
       "4     99.0  [{'english_name': 'English', 'iso_639_1': 'en'...  Released   \n",
       "\n",
       "                                             tagline                 title  \\\n",
       "0      Try to remember the first time magic happened       The Fantasticks   \n",
       "1       The ultimate showdown on a forbidden planet.         For the Cause   \n",
       "2                                                NaN                  Gang   \n",
       "3  Feel the heat, keep the feeling burning, let t...  In the Mood for Love   \n",
       "4  There's a fine line between friendship and bet...        Chinese Coffee   \n",
       "\n",
       "   video  vote_average  vote_count certification  \n",
       "0    0.0         5.500        22.0           NaN  \n",
       "1    0.0         5.450        10.0           NaN  \n",
       "2    0.0         4.000         1.0           NaN  \n",
       "3    0.0         8.111      2305.0            PG  \n",
       "4    0.0         6.642        53.0             R  "
      ]
     },
     "execution_count": 63,
     "metadata": {},
     "output_type": "execute_result"
    }
   ],
   "source": [
    "df = pd.read_csv(FOLDER+'combined_tmdb_data.csv.gz',lineterminator='\\n')\n",
    "df.head()"
   ]
  },
  {
   "cell_type": "code",
   "execution_count": 64,
   "id": "60feaacb",
   "metadata": {},
   "outputs": [
    {
     "name": "stdout",
     "output_type": "stream",
     "text": [
      "<class 'pandas.core.frame.DataFrame'>\n",
      "RangeIndex: 2616 entries, 0 to 2615\n",
      "Data columns (total 26 columns):\n",
      " #   Column                 Non-Null Count  Dtype  \n",
      "---  ------                 --------------  -----  \n",
      " 0   imdb_id                2616 non-null   object \n",
      " 1   adult                  2606 non-null   float64\n",
      " 2   backdrop_path          1447 non-null   object \n",
      " 3   belongs_to_collection  211 non-null    object \n",
      " 4   budget                 2606 non-null   float64\n",
      " 5   genres                 2606 non-null   object \n",
      " 6   homepage               170 non-null    object \n",
      " 7   id                     2606 non-null   float64\n",
      " 8   original_language      2606 non-null   object \n",
      " 9   original_title         2606 non-null   object \n",
      " 10  overview               2562 non-null   object \n",
      " 11  popularity             2606 non-null   float64\n",
      " 12  poster_path            2365 non-null   object \n",
      " 13  production_companies   2606 non-null   object \n",
      " 14  production_countries   2606 non-null   object \n",
      " 15  release_date           2585 non-null   object \n",
      " 16  revenue                2606 non-null   float64\n",
      " 17  runtime                2606 non-null   float64\n",
      " 18  spoken_languages       2606 non-null   object \n",
      " 19  status                 2606 non-null   object \n",
      " 20  tagline                1121 non-null   object \n",
      " 21  title                  2606 non-null   object \n",
      " 22  video                  2606 non-null   float64\n",
      " 23  vote_average           2606 non-null   float64\n",
      " 24  vote_count             2606 non-null   float64\n",
      " 25  certification          817 non-null    object \n",
      "dtypes: float64(9), object(17)\n",
      "memory usage: 531.5+ KB\n"
     ]
    }
   ],
   "source": [
    "df.info()"
   ]
  },
  {
   "cell_type": "code",
   "execution_count": 65,
   "id": "02a280d8",
   "metadata": {},
   "outputs": [
    {
     "name": "stdout",
     "output_type": "stream",
     "text": [
      "<class 'pandas.core.frame.DataFrame'>\n",
      "RangeIndex: 2616 entries, 0 to 2615\n",
      "Data columns (total 7 columns):\n",
      " #   Column         Non-Null Count  Dtype  \n",
      "---  ------         --------------  -----  \n",
      " 0   imdb_id        2616 non-null   object \n",
      " 1   release_date   2585 non-null   object \n",
      " 2   revenue        2606 non-null   float64\n",
      " 3   runtime        2606 non-null   float64\n",
      " 4   vote_average   2606 non-null   float64\n",
      " 5   vote_count     2606 non-null   float64\n",
      " 6   certification  817 non-null    object \n",
      "dtypes: float64(4), object(3)\n",
      "memory usage: 143.2+ KB\n"
     ]
    }
   ],
   "source": [
    "# Drop unnecessary columns for hypothesis tests\n",
    "drop_cols = ['adult', 'backdrop_path', 'belongs_to_collection', 'homepage', \n",
    "             'original_title', 'overview', 'poster_path', 'status', 'tagline', \n",
    "             'video', 'budget', 'genres', 'id', 'original_language', \n",
    "             'popularity', 'production_companies', 'production_countries', \n",
    "             'spoken_languages', 'title',]\n",
    "df = df.drop(columns = drop_cols)\n",
    "df.info()"
   ]
  },
  {
   "cell_type": "code",
   "execution_count": 67,
   "id": "d31ec780",
   "metadata": {},
   "outputs": [
    {
     "data": {
      "text/plain": [
       "NaN        1799\n",
       "R           466\n",
       "PG-13       182\n",
       "NR           76\n",
       "PG           62\n",
       "G            24\n",
       "NC-17         6\n",
       "Unrated       1\n",
       "Name: certification, dtype: int64"
      ]
     },
     "execution_count": 67,
     "metadata": {},
     "output_type": "execute_result"
    }
   ],
   "source": [
    "# Preview certification column values\n",
    "df['certification'].value_counts(dropna = False)"
   ]
  },
  {
   "cell_type": "code",
   "execution_count": 68,
   "id": "ba7d9a0e",
   "metadata": {},
   "outputs": [],
   "source": [
    "## removing NC-17\n",
    "df = df.loc[ df['certification']!='NC-17']"
   ]
  },
  {
   "cell_type": "code",
   "execution_count": 69,
   "id": "c8d5b68f",
   "metadata": {},
   "outputs": [],
   "source": [
    "# Remove extra space\n",
    "df['certification'] = df['certification'].str.strip()"
   ]
  },
  {
   "cell_type": "code",
   "execution_count": 70,
   "id": "a163bd72",
   "metadata": {},
   "outputs": [
    {
     "data": {
      "text/plain": [
       "NaN      1799\n",
       "R         466\n",
       "PG-13     182\n",
       "NR         77\n",
       "PG         62\n",
       "G          24\n",
       "Name: certification, dtype: int64"
      ]
     },
     "execution_count": 70,
     "metadata": {},
     "output_type": "execute_result"
    }
   ],
   "source": [
    "# Clean up extra ratings\n",
    "cert_dict = {'Unrated': 'NR',\n",
    "            'UR': 'NR',\n",
    "            'Not Rated': 'NR',\n",
    "            'ScreamFest Horror Film Festival': 'NR'}\n",
    "\n",
    "# Replace values\n",
    "df['certification'] = df['certification'].replace(cert_dict)\n",
    "df['certification'].value_counts(dropna = False)\n"
   ]
  },
  {
   "cell_type": "code",
   "execution_count": 71,
   "id": "19515c5f",
   "metadata": {},
   "outputs": [
    {
     "data": {
      "text/plain": [
       "R        466\n",
       "PG-13    182\n",
       "NR        77\n",
       "PG        62\n",
       "G         24\n",
       "Name: certification, dtype: int64"
      ]
     },
     "execution_count": 71,
     "metadata": {},
     "output_type": "execute_result"
    }
   ],
   "source": [
    "# Drop nan values\n",
    "df = df.dropna(subset = 'certification')\n",
    "df['certification'].value_counts()"
   ]
  },
  {
   "cell_type": "markdown",
   "id": "6e8a3483",
   "metadata": {},
   "source": [
    "## Hypothesis Testing 1"
   ]
  },
  {
   "cell_type": "markdown",
   "id": "3e8270d9",
   "metadata": {},
   "source": [
    "### Does the MPAA rating of a movie (G/PG/PG-13/R) affect how much revenue the movie generates?"
   ]
  },
  {
   "cell_type": "markdown",
   "id": "1f69c3f2",
   "metadata": {},
   "source": [
    "#### State the Hypotheses:"
   ]
  },
  {
   "cell_type": "markdown",
   "id": "9956c2dc",
   "metadata": {},
   "source": [
    "- **Null Hypotheses**: There is no difference between revenue generated for different ratings.\n",
    "- **Alternative Hypotheses**: There is a significant difference between revenue generated for different ratings.\n",
    "- **Alpha**: 0.05"
   ]
  },
  {
   "cell_type": "markdown",
   "id": "3ad04c04",
   "metadata": {},
   "source": [
    "#### Select Test:"
   ]
  },
  {
   "cell_type": "markdown",
   "id": "e048f612",
   "metadata": {},
   "source": [
    "- We will be using the ANOVA test because we are dealing with multiple data groups"
   ]
  },
  {
   "cell_type": "markdown",
   "id": "19119325",
   "metadata": {},
   "source": [
    "#### Test Assumptions:"
   ]
  },
  {
   "cell_type": "markdown",
   "id": "33f167ed",
   "metadata": {},
   "source": [
    "-No significant outliers\n",
    "\n",
    "-Normality\n",
    "\n",
    "-Equal Variance"
   ]
  },
  {
   "cell_type": "code",
   "execution_count": 72,
   "id": "57bad881",
   "metadata": {},
   "outputs": [
    {
     "data": {
      "text/plain": [
       "dict_keys(['PG', 'R', 'G', 'NR', 'PG-13'])"
      ]
     },
     "execution_count": 72,
     "metadata": {},
     "output_type": "execute_result"
    }
   ],
   "source": [
    "## Create groups dictionary\n",
    "groups = {}\n",
    "#Loop through all unique categories\n",
    "for i in df['certification'].unique():\n",
    "    ## Get series for group and rename\n",
    "    data = df.loc[df['certification']==i,'revenue'].copy()\n",
    "    \n",
    "    # save into the dictionary\n",
    "    groups[i] = data\n",
    "groups.keys()\n"
   ]
  },
  {
   "cell_type": "code",
   "execution_count": 73,
   "id": "91e84cb3",
   "metadata": {},
   "outputs": [
    {
     "data": {
      "text/plain": [
       "R        466\n",
       "PG-13    182\n",
       "NR        77\n",
       "PG        62\n",
       "G         24\n",
       "Name: certification, dtype: int64"
      ]
     },
     "execution_count": 73,
     "metadata": {},
     "output_type": "execute_result"
    }
   ],
   "source": [
    "df['certification'].value_counts()"
   ]
  },
  {
   "cell_type": "code",
   "execution_count": 74,
   "id": "23721aff",
   "metadata": {},
   "outputs": [
    {
     "data": {
      "text/html": [
       "<div>\n",
       "<style scoped>\n",
       "    .dataframe tbody tr th:only-of-type {\n",
       "        vertical-align: middle;\n",
       "    }\n",
       "\n",
       "    .dataframe tbody tr th {\n",
       "        vertical-align: top;\n",
       "    }\n",
       "\n",
       "    .dataframe thead th {\n",
       "        text-align: right;\n",
       "    }\n",
       "</style>\n",
       "<table border=\"1\" class=\"dataframe\">\n",
       "  <thead>\n",
       "    <tr style=\"text-align: right;\">\n",
       "      <th></th>\n",
       "      <th>n</th>\n",
       "      <th>p</th>\n",
       "      <th>test stat</th>\n",
       "      <th>sig</th>\n",
       "    </tr>\n",
       "  </thead>\n",
       "  <tbody>\n",
       "    <tr>\n",
       "      <th>PG</th>\n",
       "      <td>62.0</td>\n",
       "      <td>1.207790e-19</td>\n",
       "      <td>87.120650</td>\n",
       "      <td>True</td>\n",
       "    </tr>\n",
       "    <tr>\n",
       "      <th>R</th>\n",
       "      <td>466.0</td>\n",
       "      <td>1.182243e-96</td>\n",
       "      <td>441.761511</td>\n",
       "      <td>True</td>\n",
       "    </tr>\n",
       "    <tr>\n",
       "      <th>G</th>\n",
       "      <td>24.0</td>\n",
       "      <td>1.060741e-08</td>\n",
       "      <td>36.723426</td>\n",
       "      <td>True</td>\n",
       "    </tr>\n",
       "    <tr>\n",
       "      <th>NR</th>\n",
       "      <td>77.0</td>\n",
       "      <td>1.484109e-33</td>\n",
       "      <td>151.180987</td>\n",
       "      <td>True</td>\n",
       "    </tr>\n",
       "    <tr>\n",
       "      <th>PG-13</th>\n",
       "      <td>182.0</td>\n",
       "      <td>1.320001e-30</td>\n",
       "      <td>137.599841</td>\n",
       "      <td>True</td>\n",
       "    </tr>\n",
       "  </tbody>\n",
       "</table>\n",
       "</div>"
      ],
      "text/plain": [
       "           n             p   test stat   sig\n",
       "PG      62.0  1.207790e-19   87.120650  True\n",
       "R      466.0  1.182243e-96  441.761511  True\n",
       "G       24.0  1.060741e-08   36.723426  True\n",
       "NR      77.0  1.484109e-33  151.180987  True\n",
       "PG-13  182.0  1.320001e-30  137.599841  True"
      ]
     },
     "execution_count": 74,
     "metadata": {},
     "output_type": "execute_result"
    }
   ],
   "source": [
    "# Running normal test on each group and confirming there are >20 in each group\n",
    "norm_results = {}\n",
    "for i, data in groups.items():\n",
    "    stat, p = stats.normaltest(data)\n",
    "    ## save the p val, test statistic, and the size of the group\n",
    "    norm_results[i] = {'n': len(data),\n",
    "                             'p':p,\n",
    "                             'test stat':stat,}\n",
    "# convert to a dataframe\n",
    "norm_results_df = pd.DataFrame(norm_results).T\n",
    "\n",
    "#Checking sig with pandas \n",
    "norm_results_df['sig'] = norm_results_df['p'] < .05 \n",
    "norm_results_df"
   ]
  },
  {
   "cell_type": "markdown",
   "id": "119a2edf",
   "metadata": {},
   "source": [
    "- Our data is not normally distributed, however, because there are more than 15 samples in each group, we can continue"
   ]
  },
  {
   "cell_type": "code",
   "execution_count": 75,
   "id": "22f6f598",
   "metadata": {},
   "outputs": [
    {
     "data": {
      "text/plain": [
       "LeveneResult(statistic=21.60819565998911, pvalue=5.935865004821628e-17)"
      ]
     },
     "execution_count": 75,
     "metadata": {},
     "output_type": "execute_result"
    }
   ],
   "source": [
    "#Test for equal variance\n",
    "stats.levene(*groups.values())"
   ]
  },
  {
   "cell_type": "markdown",
   "id": "d4cf932a",
   "metadata": {},
   "source": [
    "- Our Levene's test provides evidence that there is a significant difference between revenue generated for different ratings. This means we would reject our null hypothesis."
   ]
  },
  {
   "cell_type": "code",
   "execution_count": 76,
   "id": "e4939791",
   "metadata": {},
   "outputs": [
    {
     "data": {
      "image/png": "[encoded data removed]",
      "text/plain": [
       "<Figure size 640x480 with 1 Axes>"
      ]
     },
     "metadata": {},
     "output_type": "display_data"
    }
   ],
   "source": [
    "# Create barplot of revenue vs. rating\n",
    "ax = sns.barplot(data = df, x= 'certification', y= 'revenue')\n",
    "ax.set_title('Average Revenue per Rating');"
   ]
  },
  {
   "cell_type": "markdown",
   "id": "087dcf6b",
   "metadata": {},
   "source": [
    "## Hypothesis Testing 2"
   ]
  },
  {
   "cell_type": "markdown",
   "id": "ac16cf79",
   "metadata": {},
   "source": [
    "### Do movies that are over 2.5 hours long earn more revenue than movies that are 1.5 hours long (or less)?"
   ]
  },
  {
   "cell_type": "markdown",
   "id": "ef97750e",
   "metadata": {},
   "source": [
    "#### State the Hypotheses:"
   ]
  },
  {
   "cell_type": "markdown",
   "id": "6e705499",
   "metadata": {},
   "source": [
    "**Null Hypotheses**: There is no difference between groups of movies.\n",
    "\n",
    "**Alternative Hypotheses**: There is a significant difference between groups of movies.\n",
    "\n",
    "**Alpha** = 0.05"
   ]
  },
  {
   "cell_type": "markdown",
   "id": "14cd19b2",
   "metadata": {},
   "source": [
    "#### Select Test:"
   ]
  },
  {
   "cell_type": "markdown",
   "id": "37e4be4d",
   "metadata": {},
   "source": [
    "- I will be using a 2 sample T-Test because my comparison is between 2 sample groups (revenue and runtime) "
   ]
  },
  {
   "cell_type": "markdown",
   "id": "20d04bba",
   "metadata": {},
   "source": [
    "#### Test Assumptions:"
   ]
  },
  {
   "cell_type": "markdown",
   "id": "ff377340",
   "metadata": {},
   "source": [
    "- No significant outliers\n",
    "- Normality\n",
    "- Equal Variance"
   ]
  },
  {
   "cell_type": "code",
   "execution_count": 77,
   "id": "a4d51caa",
   "metadata": {},
   "outputs": [
    {
     "data": {
      "text/html": [
       "<div>\n",
       "<style scoped>\n",
       "    .dataframe tbody tr th:only-of-type {\n",
       "        vertical-align: middle;\n",
       "    }\n",
       "\n",
       "    .dataframe tbody tr th {\n",
       "        vertical-align: top;\n",
       "    }\n",
       "\n",
       "    .dataframe thead th {\n",
       "        text-align: right;\n",
       "    }\n",
       "</style>\n",
       "<table border=\"1\" class=\"dataframe\">\n",
       "  <thead>\n",
       "    <tr style=\"text-align: right;\">\n",
       "      <th></th>\n",
       "      <th>imdb_id</th>\n",
       "      <th>release_date</th>\n",
       "      <th>revenue</th>\n",
       "      <th>runtime</th>\n",
       "      <th>vote_average</th>\n",
       "      <th>vote_count</th>\n",
       "      <th>certification</th>\n",
       "      <th>is_long</th>\n",
       "      <th>is_short</th>\n",
       "    </tr>\n",
       "  </thead>\n",
       "  <tbody>\n",
       "    <tr>\n",
       "      <th>3</th>\n",
       "      <td>tt0118694</td>\n",
       "      <td>2000-09-29</td>\n",
       "      <td>14204632.0</td>\n",
       "      <td>99.0</td>\n",
       "      <td>8.111</td>\n",
       "      <td>2305.0</td>\n",
       "      <td>PG</td>\n",
       "      <td>False</td>\n",
       "      <td>False</td>\n",
       "    </tr>\n",
       "    <tr>\n",
       "      <th>4</th>\n",
       "      <td>tt0118852</td>\n",
       "      <td>2000-09-02</td>\n",
       "      <td>0.0</td>\n",
       "      <td>99.0</td>\n",
       "      <td>6.642</td>\n",
       "      <td>53.0</td>\n",
       "      <td>R</td>\n",
       "      <td>False</td>\n",
       "      <td>False</td>\n",
       "    </tr>\n",
       "    <tr>\n",
       "      <th>5</th>\n",
       "      <td>tt0119273</td>\n",
       "      <td>2000-04-19</td>\n",
       "      <td>0.0</td>\n",
       "      <td>88.0</td>\n",
       "      <td>6.077</td>\n",
       "      <td>189.0</td>\n",
       "      <td>R</td>\n",
       "      <td>False</td>\n",
       "      <td>True</td>\n",
       "    </tr>\n",
       "    <tr>\n",
       "      <th>6</th>\n",
       "      <td>tt0119495</td>\n",
       "      <td>2000-08-24</td>\n",
       "      <td>0.0</td>\n",
       "      <td>86.0</td>\n",
       "      <td>0.000</td>\n",
       "      <td>0.0</td>\n",
       "      <td>R</td>\n",
       "      <td>False</td>\n",
       "      <td>True</td>\n",
       "    </tr>\n",
       "    <tr>\n",
       "      <th>10</th>\n",
       "      <td>tt0120467</td>\n",
       "      <td>2002-04-26</td>\n",
       "      <td>14904.0</td>\n",
       "      <td>87.0</td>\n",
       "      <td>5.500</td>\n",
       "      <td>44.0</td>\n",
       "      <td>R</td>\n",
       "      <td>False</td>\n",
       "      <td>True</td>\n",
       "    </tr>\n",
       "  </tbody>\n",
       "</table>\n",
       "</div>"
      ],
      "text/plain": [
       "      imdb_id release_date     revenue  runtime  vote_average  vote_count  \\\n",
       "3   tt0118694   2000-09-29  14204632.0     99.0         8.111      2305.0   \n",
       "4   tt0118852   2000-09-02         0.0     99.0         6.642        53.0   \n",
       "5   tt0119273   2000-04-19         0.0     88.0         6.077       189.0   \n",
       "6   tt0119495   2000-08-24         0.0     86.0         0.000         0.0   \n",
       "10  tt0120467   2002-04-26     14904.0     87.0         5.500        44.0   \n",
       "\n",
       "   certification  is_long  is_short  \n",
       "3             PG    False     False  \n",
       "4              R    False     False  \n",
       "5              R    False      True  \n",
       "6              R    False      True  \n",
       "10             R    False      True  "
      ]
     },
     "execution_count": 77,
     "metadata": {},
     "output_type": "execute_result"
    }
   ],
   "source": [
    "# splitting movies between 150 mins and 90 mins long \n",
    "# Add columns for long and short movies\n",
    "df['is_long'] = df['runtime'] > 150\n",
    "df['is_short'] = df['runtime'] <= 90\n",
    "df.head()"
   ]
  },
  {
   "cell_type": "code",
   "execution_count": 78,
   "id": "1599c3d9",
   "metadata": {},
   "outputs": [
    {
     "name": "stdout",
     "output_type": "stream",
     "text": [
      "There are 12 movies over 2.5 hours.\n",
      "There are 232 movies under 1.5 hours.\n"
     ]
    }
   ],
   "source": [
    "# Separate into two groups\n",
    "long = df.loc[df['is_long'] == True, ['revenue', 'is_long']]\n",
    "short = df.loc[df['is_short'] == True, ['revenue', 'is_short']]\n",
    "print(f'There are {len(long)} movies over 2.5 hours.')\n",
    "print(f'There are {len(short)} movies under 1.5 hours.')"
   ]
  },
  {
   "cell_type": "code",
   "execution_count": 79,
   "id": "3070e2c4",
   "metadata": {},
   "outputs": [
    {
     "data": {
      "text/plain": [
       "238     215294342.0\n",
       "477             0.0\n",
       "587       4900000.0\n",
       "790      20908467.0\n",
       "1265    871368364.0\n",
       "Name: revenue, dtype: float64"
      ]
     },
     "metadata": {},
     "output_type": "display_data"
    },
    {
     "data": {
      "text/plain": [
       "5             0.0\n",
       "6             0.0\n",
       "10        14904.0\n",
       "12    224834564.0\n",
       "14            0.0\n",
       "Name: revenue, dtype: float64"
      ]
     },
     "metadata": {},
     "output_type": "display_data"
    }
   ],
   "source": [
    "# Create final groups\n",
    "long_group = long['revenue']\n",
    "short_group = short['revenue']\n",
    "display(long_group.head(), short_group.head())"
   ]
  },
  {
   "cell_type": "code",
   "execution_count": 80,
   "id": "ad4a8631",
   "metadata": {},
   "outputs": [
    {
     "data": {
      "text/plain": [
       "0"
      ]
     },
     "execution_count": 80,
     "metadata": {},
     "output_type": "execute_result"
    }
   ],
   "source": [
    "# Check for outliers in long group\n",
    "zscores_long = stats.zscore(long_group)\n",
    "outliers_long = abs(zscores_long)>3\n",
    "np.sum(outliers_long)"
   ]
  },
  {
   "cell_type": "code",
   "execution_count": 81,
   "id": "96f87498",
   "metadata": {},
   "outputs": [
    {
     "data": {
      "text/plain": [
       "5"
      ]
     },
     "execution_count": 81,
     "metadata": {},
     "output_type": "execute_result"
    }
   ],
   "source": [
    "# Check for outliers in short group\n",
    "zscores_short = stats.zscore(short_group)\n",
    "outliers_short = abs(zscores_short)>3\n",
    "np.sum(outliers_short)"
   ]
  },
  {
   "cell_type": "code",
   "execution_count": 82,
   "id": "ed2ef1bc",
   "metadata": {},
   "outputs": [],
   "source": [
    "# Remove outliers\n",
    "short_group = short_group[(np.abs(stats.zscore(short_group)) < 3)]"
   ]
  },
  {
   "cell_type": "code",
   "execution_count": 83,
   "id": "6acfe6e3",
   "metadata": {},
   "outputs": [
    {
     "name": "stderr",
     "output_type": "stream",
     "text": [
      "/opt/homebrew/Caskroom/miniforge/base/envs/dojo-env/lib/python3.9/site-packages/scipy/stats/_stats_py.py:1772: UserWarning: kurtosistest only valid for n>=20 ... continuing anyway, n=12\n",
      "  warnings.warn(\"kurtosistest only valid for n>=20 ... continuing \"\n"
     ]
    },
    {
     "data": {
      "text/plain": [
       "NormaltestResult(statistic=6.867988815394849, pvalue=0.03225783215527952)"
      ]
     },
     "execution_count": 83,
     "metadata": {},
     "output_type": "execute_result"
    }
   ],
   "source": [
    "# Normal test: long group\n",
    "result_long = stats.normaltest(long_group)\n",
    "result_long"
   ]
  },
  {
   "cell_type": "code",
   "execution_count": 84,
   "id": "37523796",
   "metadata": {},
   "outputs": [
    {
     "data": {
      "text/plain": [
       "NormaltestResult(statistic=192.43115587510775, pvalue=1.637213920450299e-42)"
      ]
     },
     "execution_count": 84,
     "metadata": {},
     "output_type": "execute_result"
    }
   ],
   "source": [
    "# Normal test: short group\n",
    "result_short = stats.normaltest(short_group)\n",
    "result_short"
   ]
  },
  {
   "cell_type": "markdown",
   "id": "31fa6a7d",
   "metadata": {},
   "source": [
    "- We do not have normally distributed data, however, we can proceed due to our high sample sizes."
   ]
  },
  {
   "cell_type": "code",
   "execution_count": 85,
   "id": "f684464b",
   "metadata": {},
   "outputs": [
    {
     "data": {
      "text/plain": [
       "LeveneResult(statistic=72.20963940977056, pvalue=2.1719942781533567e-15)"
      ]
     },
     "execution_count": 85,
     "metadata": {},
     "output_type": "execute_result"
    }
   ],
   "source": [
    "# Test for equal variance\n",
    "result = stats.levene(long_group, short_group)\n",
    "result"
   ]
  },
  {
   "cell_type": "markdown",
   "id": "d7e67d50",
   "metadata": {},
   "source": [
    "- Our Levene's test provides evidence that there is a significant difference between groups of movies. We'd be rejecting our null hypothesis."
   ]
  },
  {
   "cell_type": "code",
   "execution_count": 86,
   "id": "78191843",
   "metadata": {},
   "outputs": [
    {
     "data": {
      "image/png": "[encoded data removed]",
      "text/plain": [
       "<Figure size 640x480 with 1 Axes>"
      ]
     },
     "metadata": {},
     "output_type": "display_data"
    }
   ],
   "source": [
    "# Regression plot of revenue and runtime\n",
    "ax = sns.scatterplot(data = df, x = 'runtime', y = 'revenue', hue= 'is_long')\n",
    "ax.set_title('Comparison of Runtime and Revenue');"
   ]
  },
  {
   "cell_type": "markdown",
   "id": "d65cb2b4",
   "metadata": {},
   "source": [
    "## Hypothesis Test 3"
   ]
  },
  {
   "cell_type": "markdown",
   "id": "c2ae9b28",
   "metadata": {},
   "source": [
    "### Do movies with higher average votes generate more revenue than movies with lower average votes?"
   ]
  },
  {
   "cell_type": "markdown",
   "id": "62985edf",
   "metadata": {},
   "source": [
    "#### State Hypotheses::"
   ]
  },
  {
   "cell_type": "markdown",
   "id": "5d12776c",
   "metadata": {},
   "source": [
    "**Null Hypotheses**: There is no difference in revenue between movies with large votes and movies with small votes.\n",
    "\n",
    "**Alternative Hypotheses**: There is a significant difference between revenue generated between movies with large votes and movies with small votes.\n",
    "\n",
    "**Alpha** = 0.05"
   ]
  },
  {
   "cell_type": "markdown",
   "id": "53994089",
   "metadata": {},
   "source": [
    "#### Select Test:"
   ]
  },
  {
   "cell_type": "markdown",
   "id": "cba6a292",
   "metadata": {},
   "source": [
    "- I will be using a 2 sample T-Test because my comparison is between 2 sample groups (revenue and average votes)"
   ]
  },
  {
   "cell_type": "markdown",
   "id": "5ffa47ce",
   "metadata": {},
   "source": [
    "#### Test Assumption:"
   ]
  },
  {
   "cell_type": "markdown",
   "id": "6b33434e",
   "metadata": {},
   "source": [
    "- No significant outliers\n",
    "- Normality\n",
    "- Equal Variance"
   ]
  },
  {
   "cell_type": "code",
   "execution_count": 88,
   "id": "c406f3fe",
   "metadata": {},
   "outputs": [
    {
     "data": {
      "text/html": [
       "<div>\n",
       "<style scoped>\n",
       "    .dataframe tbody tr th:only-of-type {\n",
       "        vertical-align: middle;\n",
       "    }\n",
       "\n",
       "    .dataframe tbody tr th {\n",
       "        vertical-align: top;\n",
       "    }\n",
       "\n",
       "    .dataframe thead th {\n",
       "        text-align: right;\n",
       "    }\n",
       "</style>\n",
       "<table border=\"1\" class=\"dataframe\">\n",
       "  <thead>\n",
       "    <tr style=\"text-align: right;\">\n",
       "      <th></th>\n",
       "      <th>imdb_id</th>\n",
       "      <th>release_date</th>\n",
       "      <th>revenue</th>\n",
       "      <th>runtime</th>\n",
       "      <th>vote_average</th>\n",
       "      <th>vote_count</th>\n",
       "      <th>certification</th>\n",
       "      <th>is_long</th>\n",
       "      <th>is_short</th>\n",
       "      <th>high_votes</th>\n",
       "    </tr>\n",
       "  </thead>\n",
       "  <tbody>\n",
       "    <tr>\n",
       "      <th>3</th>\n",
       "      <td>tt0118694</td>\n",
       "      <td>2000-09-29</td>\n",
       "      <td>14204632.0</td>\n",
       "      <td>99.0</td>\n",
       "      <td>8.111</td>\n",
       "      <td>2305.0</td>\n",
       "      <td>PG</td>\n",
       "      <td>False</td>\n",
       "      <td>False</td>\n",
       "      <td>True</td>\n",
       "    </tr>\n",
       "    <tr>\n",
       "      <th>4</th>\n",
       "      <td>tt0118852</td>\n",
       "      <td>2000-09-02</td>\n",
       "      <td>0.0</td>\n",
       "      <td>99.0</td>\n",
       "      <td>6.642</td>\n",
       "      <td>53.0</td>\n",
       "      <td>R</td>\n",
       "      <td>False</td>\n",
       "      <td>False</td>\n",
       "      <td>True</td>\n",
       "    </tr>\n",
       "    <tr>\n",
       "      <th>5</th>\n",
       "      <td>tt0119273</td>\n",
       "      <td>2000-04-19</td>\n",
       "      <td>0.0</td>\n",
       "      <td>88.0</td>\n",
       "      <td>6.077</td>\n",
       "      <td>189.0</td>\n",
       "      <td>R</td>\n",
       "      <td>False</td>\n",
       "      <td>True</td>\n",
       "      <td>True</td>\n",
       "    </tr>\n",
       "    <tr>\n",
       "      <th>6</th>\n",
       "      <td>tt0119495</td>\n",
       "      <td>2000-08-24</td>\n",
       "      <td>0.0</td>\n",
       "      <td>86.0</td>\n",
       "      <td>0.000</td>\n",
       "      <td>0.0</td>\n",
       "      <td>R</td>\n",
       "      <td>False</td>\n",
       "      <td>True</td>\n",
       "      <td>False</td>\n",
       "    </tr>\n",
       "    <tr>\n",
       "      <th>10</th>\n",
       "      <td>tt0120467</td>\n",
       "      <td>2002-04-26</td>\n",
       "      <td>14904.0</td>\n",
       "      <td>87.0</td>\n",
       "      <td>5.500</td>\n",
       "      <td>44.0</td>\n",
       "      <td>R</td>\n",
       "      <td>False</td>\n",
       "      <td>True</td>\n",
       "      <td>True</td>\n",
       "    </tr>\n",
       "  </tbody>\n",
       "</table>\n",
       "</div>"
      ],
      "text/plain": [
       "      imdb_id release_date     revenue  runtime  vote_average  vote_count  \\\n",
       "3   tt0118694   2000-09-29  14204632.0     99.0         8.111      2305.0   \n",
       "4   tt0118852   2000-09-02         0.0     99.0         6.642        53.0   \n",
       "5   tt0119273   2000-04-19         0.0     88.0         6.077       189.0   \n",
       "6   tt0119495   2000-08-24         0.0     86.0         0.000         0.0   \n",
       "10  tt0120467   2002-04-26     14904.0     87.0         5.500        44.0   \n",
       "\n",
       "   certification  is_long  is_short  high_votes  \n",
       "3             PG    False     False        True  \n",
       "4              R    False     False        True  \n",
       "5              R    False      True        True  \n",
       "6              R    False      True       False  \n",
       "10             R    False      True        True  "
      ]
     },
     "execution_count": 88,
     "metadata": {},
     "output_type": "execute_result"
    }
   ],
   "source": [
    "# splitting movies with average votes > 5 and average votes < 5 \n",
    "# Add columns for high and low average votes\n",
    "df['high_votes'] = df['vote_average'] > 5\n",
    "df.head()"
   ]
  },
  {
   "cell_type": "code",
   "execution_count": 89,
   "id": "d582c50b",
   "metadata": {},
   "outputs": [
    {
     "name": "stdout",
     "output_type": "stream",
     "text": [
      "There are 588 movies with average votes over 5.\n",
      "There are 223 movies with average votes under 5.\n"
     ]
    }
   ],
   "source": [
    "# Separate into two groups\n",
    "high = df.loc[df['high_votes'] == True, ['revenue', 'high_votes']]\n",
    "low = df.loc[df['high_votes'] == False, ['revenue', 'high_votes']]\n",
    "print(f'There are {len(high)} movies with average votes over 5.')\n",
    "print(f'There are {len(low)} movies with average votes under 5.')"
   ]
  },
  {
   "cell_type": "code",
   "execution_count": 90,
   "id": "e69e9c7d",
   "metadata": {},
   "outputs": [
    {
     "data": {
      "text/plain": [
       "3      14204632.0\n",
       "4             0.0\n",
       "5             0.0\n",
       "10        14904.0\n",
       "12    224834564.0\n",
       "Name: revenue, dtype: float64"
      ]
     },
     "metadata": {},
     "output_type": "display_data"
    },
    {
     "data": {
      "text/plain": [
       "6            0.0\n",
       "20           0.0\n",
       "23           0.0\n",
       "27    35134820.0\n",
       "34    14828081.0\n",
       "Name: revenue, dtype: float64"
      ]
     },
     "metadata": {},
     "output_type": "display_data"
    }
   ],
   "source": [
    "# Create final groups\n",
    "high_group = high['revenue']\n",
    "low_group = low['revenue']\n",
    "display(high_group.head(), low_group.head())"
   ]
  },
  {
   "cell_type": "code",
   "execution_count": 91,
   "id": "c7b95abf",
   "metadata": {},
   "outputs": [
    {
     "data": {
      "text/plain": [
       "15"
      ]
     },
     "execution_count": 91,
     "metadata": {},
     "output_type": "execute_result"
    }
   ],
   "source": [
    "# Check for outliers in high group\n",
    "zscores_high = stats.zscore(high_group)\n",
    "outliers_high = abs(zscores_high)>3\n",
    "np.sum(outliers_high)"
   ]
  },
  {
   "cell_type": "code",
   "execution_count": 92,
   "id": "2c6ac5c7",
   "metadata": {},
   "outputs": [],
   "source": [
    "# Remove outliers\n",
    "high_group = high_group[(np.abs(stats.zscore(high_group)) < 3)]"
   ]
  },
  {
   "cell_type": "code",
   "execution_count": 93,
   "id": "2c1a3761",
   "metadata": {},
   "outputs": [
    {
     "data": {
      "text/plain": [
       "5"
      ]
     },
     "execution_count": 93,
     "metadata": {},
     "output_type": "execute_result"
    }
   ],
   "source": [
    "# Check for outliers in low group\n",
    "zscores_low = stats.zscore(low_group)\n",
    "outliers_low = abs(zscores_low)>3\n",
    "np.sum(outliers_low)"
   ]
  },
  {
   "cell_type": "code",
   "execution_count": 95,
   "id": "64f5b12c",
   "metadata": {},
   "outputs": [],
   "source": [
    "# Remove outliers\n",
    "low_group = low_group[(np.abs(stats.zscore(low_group)) < 3)]"
   ]
  },
  {
   "cell_type": "code",
   "execution_count": 96,
   "id": "fa16934c",
   "metadata": {},
   "outputs": [
    {
     "data": {
      "text/plain": [
       "NormaltestResult(statistic=322.1907773651942, pvalue=1.0893354451784762e-70)"
      ]
     },
     "execution_count": 96,
     "metadata": {},
     "output_type": "execute_result"
    }
   ],
   "source": [
    "#Normal test: high group\n",
    "result_high = stats.normaltest(high_group)\n",
    "result_high"
   ]
  },
  {
   "cell_type": "code",
   "execution_count": 97,
   "id": "f2c261d1",
   "metadata": {},
   "outputs": [
    {
     "data": {
      "text/plain": [
       "NormaltestResult(statistic=278.35879389637216, pvalue=3.59050809975516e-61)"
      ]
     },
     "execution_count": 97,
     "metadata": {},
     "output_type": "execute_result"
    }
   ],
   "source": [
    "#Normal test: low group\n",
    "result_low = stats.normaltest(low_group)\n",
    "result_low"
   ]
  },
  {
   "cell_type": "markdown",
   "id": "bc861645",
   "metadata": {},
   "source": [
    "- We do not have normally distributed data, however, we can continue as usual because our groups are large enough."
   ]
  },
  {
   "cell_type": "code",
   "execution_count": 98,
   "id": "befd536b",
   "metadata": {},
   "outputs": [
    {
     "data": {
      "text/plain": [
       "LeveneResult(statistic=54.96338367726918, pvalue=3.199520697583657e-13)"
      ]
     },
     "execution_count": 98,
     "metadata": {},
     "output_type": "execute_result"
    }
   ],
   "source": [
    "# Test for equal variance\n",
    "result = stats.levene(high_group, low_group)\n",
    "result"
   ]
  },
  {
   "cell_type": "markdown",
   "id": "4ca66b49",
   "metadata": {},
   "source": [
    "- Our Levene's test provides evidence that there is a significant difference between revenue generated between movies with large votes and movies with small votes. We'd be rejecting our null hypothesis."
   ]
  },
  {
   "cell_type": "code",
   "execution_count": 99,
   "id": "50e8596f",
   "metadata": {},
   "outputs": [
    {
     "data": {
      "image/png": "[encoded data removed]",
      "text/plain": [
       "<Figure size 640x480 with 1 Axes>"
      ]
     },
     "metadata": {},
     "output_type": "display_data"
    }
   ],
   "source": [
    "# Scatterplot of average votes\n",
    "ax = sns.scatterplot(data= df, x= 'vote_average', y= 'revenue', hue= 'high_votes')\n",
    "ax.set_title('Comparison of Average Votes and Revenue');"
   ]
  },
  {
   "cell_type": "code",
   "execution_count": null,
   "id": "e02f43c6",
   "metadata": {},
   "outputs": [],
   "source": []
  }
 ],
 "metadata": {
  "kernelspec": {
   "display_name": "Python (dojo-env)",
   "language": "python",
   "name": "dojo-env"
  },
  "language_info": {
   "codemirror_mode": {
    "name": "ipython",
    "version": 3
   },
   "file_extension": ".py",
   "mimetype": "text/x-python",
   "name": "python",
   "nbconvert_exporter": "python",
   "pygments_lexer": "ipython3",
   "version": "3.9.15"
  },
  "toc": {
   "base_numbering": 1,
   "nav_menu": {},
   "number_sections": false,
   "sideBar": true,
   "skip_h1_title": false,
   "title_cell": "Table of Contents",
   "title_sidebar": "Contents",
   "toc_cell": false,
   "toc_position": {},
   "toc_section_display": true,
   "toc_window_display": false
  }
 },
 "nbformat": 4,
 "nbformat_minor": 5
}
