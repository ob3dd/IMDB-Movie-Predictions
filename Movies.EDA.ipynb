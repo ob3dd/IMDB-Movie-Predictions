{
 "cells": [
  {
   "cell_type": "code",
   "execution_count": 4,
   "id": "6cdd87d2",
   "metadata": {},
   "outputs": [],
   "source": [
    "import pandas as pd"
   ]
  },
  {
   "cell_type": "code",
   "execution_count": 5,
   "id": "a3da74f8",
   "metadata": {},
   "outputs": [],
   "source": [
    "# Load in the dataframe from project part 1 as basics:\n",
    "df_2000 = pd.read_csv('Data/final_tmdb_data_2000.csv.gz', compression = 'gzip')\n",
    "\n",
    "df_2001 = pd.read_csv('Data/final_tmdb_data_2001.csv.gz', compression = 'gzip')"
   ]
  },
  {
   "cell_type": "code",
   "execution_count": 6,
   "id": "1bf19a8e",
   "metadata": {},
   "outputs": [],
   "source": [
    "df = pd.concat([df_2000, df_2001])"
   ]
  },
  {
   "cell_type": "code",
   "execution_count": 7,
   "id": "fd8a4905",
   "metadata": {},
   "outputs": [
    {
     "data": {
      "text/html": [
       "<div>\n",
       "<style scoped>\n",
       "    .dataframe tbody tr th:only-of-type {\n",
       "        vertical-align: middle;\n",
       "    }\n",
       "\n",
       "    .dataframe tbody tr th {\n",
       "        vertical-align: top;\n",
       "    }\n",
       "\n",
       "    .dataframe thead th {\n",
       "        text-align: right;\n",
       "    }\n",
       "</style>\n",
       "<table border=\"1\" class=\"dataframe\">\n",
       "  <thead>\n",
       "    <tr style=\"text-align: right;\">\n",
       "      <th></th>\n",
       "      <th>imdb_id</th>\n",
       "      <th>adult</th>\n",
       "      <th>backdrop_path</th>\n",
       "      <th>belongs_to_collection</th>\n",
       "      <th>budget</th>\n",
       "      <th>genres</th>\n",
       "      <th>homepage</th>\n",
       "      <th>id</th>\n",
       "      <th>original_language</th>\n",
       "      <th>original_title</th>\n",
       "      <th>...</th>\n",
       "      <th>revenue</th>\n",
       "      <th>runtime</th>\n",
       "      <th>spoken_languages</th>\n",
       "      <th>status</th>\n",
       "      <th>tagline</th>\n",
       "      <th>title</th>\n",
       "      <th>video</th>\n",
       "      <th>vote_average</th>\n",
       "      <th>vote_count</th>\n",
       "      <th>certification</th>\n",
       "    </tr>\n",
       "  </thead>\n",
       "  <tbody>\n",
       "    <tr>\n",
       "      <th>0</th>\n",
       "      <td>0</td>\n",
       "      <td>NaN</td>\n",
       "      <td>NaN</td>\n",
       "      <td>NaN</td>\n",
       "      <td>NaN</td>\n",
       "      <td>NaN</td>\n",
       "      <td>NaN</td>\n",
       "      <td>NaN</td>\n",
       "      <td>NaN</td>\n",
       "      <td>NaN</td>\n",
       "      <td>...</td>\n",
       "      <td>NaN</td>\n",
       "      <td>NaN</td>\n",
       "      <td>NaN</td>\n",
       "      <td>NaN</td>\n",
       "      <td>NaN</td>\n",
       "      <td>NaN</td>\n",
       "      <td>NaN</td>\n",
       "      <td>NaN</td>\n",
       "      <td>NaN</td>\n",
       "      <td>NaN</td>\n",
       "    </tr>\n",
       "    <tr>\n",
       "      <th>1</th>\n",
       "      <td>tt0113026</td>\n",
       "      <td>0.0</td>\n",
       "      <td>/vMFs7nw6P0bIV1jDsQpxAieAVnH.jpg</td>\n",
       "      <td>NaN</td>\n",
       "      <td>10000000.0</td>\n",
       "      <td>[{'id': 35, 'name': 'Comedy'}, {'id': 10402, '...</td>\n",
       "      <td>NaN</td>\n",
       "      <td>62127.0</td>\n",
       "      <td>en</td>\n",
       "      <td>The Fantasticks</td>\n",
       "      <td>...</td>\n",
       "      <td>0.0</td>\n",
       "      <td>86.0</td>\n",
       "      <td>[{'english_name': 'English', 'iso_639_1': 'en'...</td>\n",
       "      <td>Released</td>\n",
       "      <td>Try to remember the first time magic happened</td>\n",
       "      <td>The Fantasticks</td>\n",
       "      <td>0.0</td>\n",
       "      <td>5.500</td>\n",
       "      <td>22.0</td>\n",
       "      <td>NaN</td>\n",
       "    </tr>\n",
       "    <tr>\n",
       "      <th>2</th>\n",
       "      <td>tt0113092</td>\n",
       "      <td>0.0</td>\n",
       "      <td>NaN</td>\n",
       "      <td>NaN</td>\n",
       "      <td>0.0</td>\n",
       "      <td>[{'id': 878, 'name': 'Science Fiction'}]</td>\n",
       "      <td>NaN</td>\n",
       "      <td>110977.0</td>\n",
       "      <td>en</td>\n",
       "      <td>For the Cause</td>\n",
       "      <td>...</td>\n",
       "      <td>0.0</td>\n",
       "      <td>100.0</td>\n",
       "      <td>[{'english_name': 'English', 'iso_639_1': 'en'...</td>\n",
       "      <td>Released</td>\n",
       "      <td>The ultimate showdown on a forbidden planet.</td>\n",
       "      <td>For the Cause</td>\n",
       "      <td>0.0</td>\n",
       "      <td>5.450</td>\n",
       "      <td>10.0</td>\n",
       "      <td>NaN</td>\n",
       "    </tr>\n",
       "    <tr>\n",
       "      <th>3</th>\n",
       "      <td>tt0116391</td>\n",
       "      <td>0.0</td>\n",
       "      <td>NaN</td>\n",
       "      <td>NaN</td>\n",
       "      <td>0.0</td>\n",
       "      <td>[{'id': 18, 'name': 'Drama'}, {'id': 28, 'name...</td>\n",
       "      <td>NaN</td>\n",
       "      <td>442869.0</td>\n",
       "      <td>hi</td>\n",
       "      <td>Gang</td>\n",
       "      <td>...</td>\n",
       "      <td>0.0</td>\n",
       "      <td>152.0</td>\n",
       "      <td>[{'english_name': 'Hindi', 'iso_639_1': 'hi', ...</td>\n",
       "      <td>Released</td>\n",
       "      <td>NaN</td>\n",
       "      <td>Gang</td>\n",
       "      <td>0.0</td>\n",
       "      <td>4.000</td>\n",
       "      <td>1.0</td>\n",
       "      <td>NaN</td>\n",
       "    </tr>\n",
       "    <tr>\n",
       "      <th>4</th>\n",
       "      <td>tt0118694</td>\n",
       "      <td>0.0</td>\n",
       "      <td>/n4GJFGzsc7NinI1VeGDXIcQjtU2.jpg</td>\n",
       "      <td>NaN</td>\n",
       "      <td>150000.0</td>\n",
       "      <td>[{'id': 18, 'name': 'Drama'}, {'id': 10749, 'n...</td>\n",
       "      <td>NaN</td>\n",
       "      <td>843.0</td>\n",
       "      <td>cn</td>\n",
       "      <td>花樣年華</td>\n",
       "      <td>...</td>\n",
       "      <td>14204632.0</td>\n",
       "      <td>99.0</td>\n",
       "      <td>[{'english_name': 'Cantonese', 'iso_639_1': 'c...</td>\n",
       "      <td>Released</td>\n",
       "      <td>Feel the heat, keep the feeling burning, let t...</td>\n",
       "      <td>In the Mood for Love</td>\n",
       "      <td>0.0</td>\n",
       "      <td>8.111</td>\n",
       "      <td>2305.0</td>\n",
       "      <td>PG</td>\n",
       "    </tr>\n",
       "  </tbody>\n",
       "</table>\n",
       "<p>5 rows × 26 columns</p>\n",
       "</div>"
      ],
      "text/plain": [
       "     imdb_id  adult                     backdrop_path belongs_to_collection  \\\n",
       "0          0    NaN                               NaN                   NaN   \n",
       "1  tt0113026    0.0  /vMFs7nw6P0bIV1jDsQpxAieAVnH.jpg                   NaN   \n",
       "2  tt0113092    0.0                               NaN                   NaN   \n",
       "3  tt0116391    0.0                               NaN                   NaN   \n",
       "4  tt0118694    0.0  /n4GJFGzsc7NinI1VeGDXIcQjtU2.jpg                   NaN   \n",
       "\n",
       "       budget                                             genres homepage  \\\n",
       "0         NaN                                                NaN      NaN   \n",
       "1  10000000.0  [{'id': 35, 'name': 'Comedy'}, {'id': 10402, '...      NaN   \n",
       "2         0.0           [{'id': 878, 'name': 'Science Fiction'}]      NaN   \n",
       "3         0.0  [{'id': 18, 'name': 'Drama'}, {'id': 28, 'name...      NaN   \n",
       "4    150000.0  [{'id': 18, 'name': 'Drama'}, {'id': 10749, 'n...      NaN   \n",
       "\n",
       "         id original_language   original_title  ...     revenue  runtime  \\\n",
       "0       NaN               NaN              NaN  ...         NaN      NaN   \n",
       "1   62127.0                en  The Fantasticks  ...         0.0     86.0   \n",
       "2  110977.0                en    For the Cause  ...         0.0    100.0   \n",
       "3  442869.0                hi             Gang  ...         0.0    152.0   \n",
       "4     843.0                cn             花樣年華  ...  14204632.0     99.0   \n",
       "\n",
       "                                    spoken_languages    status  \\\n",
       "0                                                NaN       NaN   \n",
       "1  [{'english_name': 'English', 'iso_639_1': 'en'...  Released   \n",
       "2  [{'english_name': 'English', 'iso_639_1': 'en'...  Released   \n",
       "3  [{'english_name': 'Hindi', 'iso_639_1': 'hi', ...  Released   \n",
       "4  [{'english_name': 'Cantonese', 'iso_639_1': 'c...  Released   \n",
       "\n",
       "                                             tagline                 title  \\\n",
       "0                                                NaN                   NaN   \n",
       "1      Try to remember the first time magic happened       The Fantasticks   \n",
       "2       The ultimate showdown on a forbidden planet.         For the Cause   \n",
       "3                                                NaN                  Gang   \n",
       "4  Feel the heat, keep the feeling burning, let t...  In the Mood for Love   \n",
       "\n",
       "   video  vote_average vote_count certification  \n",
       "0    NaN           NaN        NaN           NaN  \n",
       "1    0.0         5.500       22.0           NaN  \n",
       "2    0.0         5.450       10.0           NaN  \n",
       "3    0.0         4.000        1.0           NaN  \n",
       "4    0.0         8.111     2305.0            PG  \n",
       "\n",
       "[5 rows x 26 columns]"
      ]
     },
     "execution_count": 7,
     "metadata": {},
     "output_type": "execute_result"
    }
   ],
   "source": [
    "df.head()"
   ]
  },
  {
   "cell_type": "code",
   "execution_count": 8,
   "id": "f6dd42b8",
   "metadata": {},
   "outputs": [
    {
     "data": {
      "text/plain": [
       "<bound method IndexOpsMixin.value_counts of 0              NaN\n",
       "1       10000000.0\n",
       "2              0.0\n",
       "3              0.0\n",
       "4         150000.0\n",
       "           ...    \n",
       "1346           0.0\n",
       "1347           0.0\n",
       "1348           0.0\n",
       "1349           0.0\n",
       "1350           0.0\n",
       "Name: budget, Length: 2608, dtype: float64>"
      ]
     },
     "execution_count": 8,
     "metadata": {},
     "output_type": "execute_result"
    }
   ],
   "source": [
    "df['budget'].value_counts"
   ]
  },
  {
   "cell_type": "code",
   "execution_count": 9,
   "id": "b15934ab",
   "metadata": {},
   "outputs": [],
   "source": [
    "# selecting rows based on condition\n",
    "df = df[(df['budget'] > 0) &\n",
    "\t\tdf['revenue'] > 0]\n",
    "\t"
   ]
  },
  {
   "cell_type": "markdown",
   "id": "4dd460b4",
   "metadata": {},
   "source": [
    "### How many movies are there in each of the certification categories (G/PG/PG-13/R)?"
   ]
  },
  {
   "cell_type": "code",
   "execution_count": 10,
   "id": "8303b629",
   "metadata": {},
   "outputs": [
    {
     "data": {
      "text/plain": [
       "R        143\n",
       "PG-13    117\n",
       "PG        30\n",
       "G         13\n",
       "NR         8\n",
       "Name: certification, dtype: int64"
      ]
     },
     "execution_count": 10,
     "metadata": {},
     "output_type": "execute_result"
    }
   ],
   "source": [
    "df['certification'].value_counts()"
   ]
  },
  {
   "cell_type": "markdown",
   "id": "48a99739",
   "metadata": {},
   "source": [
    "G = 13\n",
    "PG = 30\n",
    "PG-13 = 117\n",
    "R = 143"
   ]
  },
  {
   "cell_type": "markdown",
   "id": "ae0b5284",
   "metadata": {},
   "source": [
    "### What is the average revenue per certification category?\n"
   ]
  },
  {
   "cell_type": "code",
   "execution_count": 11,
   "id": "440768c6",
   "metadata": {},
   "outputs": [
    {
     "data": {
      "text/plain": [
       "77549660.32869081"
      ]
     },
     "execution_count": 11,
     "metadata": {},
     "output_type": "execute_result"
    }
   ],
   "source": [
    "df['revenue'].mean()"
   ]
  },
  {
   "cell_type": "markdown",
   "id": "f272804c",
   "metadata": {},
   "source": [
    "$77,549,660.32"
   ]
  },
  {
   "cell_type": "markdown",
   "id": "e3b12cba",
   "metadata": {},
   "source": [
    "### What is the average budget per certification category?"
   ]
  },
  {
   "cell_type": "code",
   "execution_count": 12,
   "id": "b6dd4a0a",
   "metadata": {},
   "outputs": [
    {
     "data": {
      "text/plain": [
       "33921943.19220056"
      ]
     },
     "execution_count": 12,
     "metadata": {},
     "output_type": "execute_result"
    }
   ],
   "source": [
    "df['budget'].mean()"
   ]
  },
  {
   "cell_type": "markdown",
   "id": "c351bd1c",
   "metadata": {},
   "source": [
    "$33,921,943.29"
   ]
  },
  {
   "cell_type": "code",
   "execution_count": null,
   "id": "50ab6f94",
   "metadata": {},
   "outputs": [],
   "source": []
  }
 ],
 "metadata": {
  "kernelspec": {
   "display_name": "Python (dojo-env)",
   "language": "python",
   "name": "dojo-env"
  },
  "language_info": {
   "codemirror_mode": {
    "name": "ipython",
    "version": 3
   },
   "file_extension": ".py",
   "mimetype": "text/x-python",
   "name": "python",
   "nbconvert_exporter": "python",
   "pygments_lexer": "ipython3",
   "version": "3.9.15"
  },
  "toc": {
   "base_numbering": 1,
   "nav_menu": {},
   "number_sections": false,
   "sideBar": true,
   "skip_h1_title": false,
   "title_cell": "Table of Contents",
   "title_sidebar": "Contents",
   "toc_cell": false,
   "toc_position": {},
   "toc_section_display": true,
   "toc_window_display": false
  }
 },
 "nbformat": 4,
 "nbformat_minor": 5
}
